{
 "cells": [
  {
   "cell_type": "code",
   "execution_count": 2,
   "metadata": {},
   "outputs": [
    {
     "name": "stderr",
     "output_type": "stream",
     "text": [
      "/Users/benwyant/opt/anaconda3/lib/python3.8/site-packages/scipy/__init__.py:146: UserWarning: A NumPy version >=1.16.5 and <1.23.0 is required for this version of SciPy (detected version 1.24.2\n",
      "  warnings.warn(f\"A NumPy version >={np_minversion} and <{np_maxversion}\"\n"
     ]
    }
   ],
   "source": [
    "from mongo_connection import MongoDriver"
   ]
  },
  {
   "cell_type": "code",
   "execution_count": 3,
   "metadata": {},
   "outputs": [
    {
     "name": "stdout",
     "output_type": "stream",
     "text": [
      "Database(MongoClient(host=['localhost:27017'], document_class=dict, tz_aware=False, connect=True), 'restaurants')\n"
     ]
    }
   ],
   "source": [
    "mongo: MongoDriver = MongoDriver('localhost', 27017, 'restaurants')\n",
    "mongo.connect()\n",
    "\n",
    "if mongo.collection_size(\"restaurants_collection\") == 0:\n",
    "    mongo.insert_data('restaurants_collection', 'data/restaurants.json', clear=False)"
   ]
  },
  {
   "cell_type": "markdown",
   "metadata": {},
   "source": [
    "#### Q1) How many McDonald's are in NYC?"
   ]
  },
  {
   "cell_type": "code",
   "execution_count": 4,
   "metadata": {
    "scrolled": true
   },
   "outputs": [
    {
     "name": "stdout",
     "output_type": "stream",
     "text": [
      "\n",
      " Number of McDonald's in NYC: \n",
      "\n",
      "{'totalMcDonalds': 208}\n"
     ]
    },
    {
     "data": {
      "text/plain": [
       "[{'totalMcDonalds': 208}]"
      ]
     },
     "execution_count": 4,
     "metadata": {},
     "output_type": "execute_result"
    }
   ],
   "source": [
    "print(\"\\n Number of McDonald's in NYC: \\n\")\n",
    "mongo.aggregate_query(\"restaurants_collection\", [\n",
    "                                                {\n",
    "                                                    \"$match\": {\n",
    "                                                                \"name\":\"Mcdonald'S\"\n",
    "                                                                }\n",
    "                                                },\n",
    "                                                {\"$count\":\"totalMcDonalds\"}\n",
    "                                                ])"
   ]
  },
  {
   "cell_type": "markdown",
   "metadata": {},
   "source": [
    "#### Q2) How many restaurants are in each bourough?"
   ]
  },
  {
   "cell_type": "code",
   "execution_count": 5,
   "metadata": {},
   "outputs": [
    {
     "name": "stdout",
     "output_type": "stream",
     "text": [
      "\n",
      " Number of restaurants in each bourough: \n",
      "\n",
      "{'_id': 'Queens', 'count': 5656}\n",
      "{'_id': 'Brooklyn', 'count': 6086}\n",
      "{'_id': 'Bronx', 'count': 2338}\n",
      "{'_id': 'Manhattan', 'count': 10259}\n",
      "{'_id': 'Staten Island', 'count': 969}\n",
      "{'_id': 'Missing', 'count': 51}\n"
     ]
    },
    {
     "data": {
      "text/plain": [
       "[{'_id': 'Queens', 'count': 5656},\n",
       " {'_id': 'Brooklyn', 'count': 6086},\n",
       " {'_id': 'Bronx', 'count': 2338},\n",
       " {'_id': 'Manhattan', 'count': 10259},\n",
       " {'_id': 'Staten Island', 'count': 969},\n",
       " {'_id': 'Missing', 'count': 51}]"
      ]
     },
     "execution_count": 5,
     "metadata": {},
     "output_type": "execute_result"
    }
   ],
   "source": [
    "print(\"\\n Number of restaurants in each bourough: \\n\")\n",
    "mongo.aggregate_query(\"restaurants_collection\", [\n",
    "                                                {\n",
    "                                                    '$group': {\n",
    "                                                        '_id': '$borough',\n",
    "                                                        'count': {'$sum': 1}\n",
    "                                                    }\n",
    "                                                }\n",
    "                                            ])"
   ]
  },
  {
   "cell_type": "markdown",
   "metadata": {},
   "source": [
    "#### Q3) Which boroughs, sorted by count, have the highest number of Chinese restaurants?"
   ]
  },
  {
   "cell_type": "code",
   "execution_count": 6,
   "metadata": {},
   "outputs": [
    {
     "name": "stdout",
     "output_type": "stream",
     "text": [
      "\n",
      " Boroughs with the highest number of Chinese restaurants --> give the number of Chinese restaurants in each boroughough: \n",
      "\n",
      "{'_id': 'Brooklyn', 'count': 763}\n",
      "{'_id': 'Queens', 'count': 728}\n",
      "{'_id': 'Manhattan', 'count': 510}\n",
      "{'_id': 'Bronx', 'count': 323}\n",
      "{'_id': 'Staten Island', 'count': 88}\n",
      "{'_id': 'Missing', 'count': 6}\n"
     ]
    },
    {
     "data": {
      "text/plain": [
       "[{'_id': 'Brooklyn', 'count': 763},\n",
       " {'_id': 'Queens', 'count': 728},\n",
       " {'_id': 'Manhattan', 'count': 510},\n",
       " {'_id': 'Bronx', 'count': 323},\n",
       " {'_id': 'Staten Island', 'count': 88},\n",
       " {'_id': 'Missing', 'count': 6}]"
      ]
     },
     "execution_count": 6,
     "metadata": {},
     "output_type": "execute_result"
    }
   ],
   "source": [
    "print(\"\\n Boroughs with the highest number of Chinese restaurants --> give the number of Chinese restaurants in each boroughough: \\n\")\n",
    "mongo.aggregate_query(\"restaurants_collection\", [\n",
    "                                                { \"$match\": { \"cuisine\": \"Chinese\" } },\n",
    "                                                {\n",
    "                                                    \"$group\": {\n",
    "                                                    \"_id\": \"$borough\",\n",
    "                                                    \"count\": { \"$sum\": 1 }\n",
    "                                                    }\n",
    "                                                },\n",
    "                                                { \"$sort\": { \"count\": -1 } }\n",
    "                                                ])"
   ]
  },
  {
   "cell_type": "markdown",
   "metadata": {},
   "source": [
    "#### Q4) What are the 10 restaurants with the highest average score, sorted by average score? (min 5 reviews)"
   ]
  },
  {
   "cell_type": "code",
   "execution_count": 8,
   "metadata": {},
   "outputs": [
    {
     "name": "stdout",
     "output_type": "stream",
     "text": [
      "\n",
      " Top 10 restaurants with the highest average score, sorted by average score (min 5 reviews): \n",
      "\n"
     ]
    },
    {
     "data": {
      "text/plain": [
       "[]"
      ]
     },
     "execution_count": 8,
     "metadata": {},
     "output_type": "execute_result"
    }
   ],
   "source": [
    "print(\"\\n Top 10 restaurants with the highest average score, sorted by average score (min 5 reviews): \\n\")\n",
    "mongo.aggregate_query(\"restaurants_collection\", \n",
    "                                                   [{\"$match\": {\"grades\":{\"$gt\": 5}}},\n",
    "                                                    {\"$project\": {\n",
    "                                                        \"name\": 1,\n",
    "                                                        \"borough\": 1,\n",
    "                                                        \"cuisine\": 1,\n",
    "                                                        \"grades\": 1,\n",
    "                                                        \"avgScore\": {\"$avg\": \"$grades.score\"}\n",
    "                                                    }},\n",
    "                                                    {\"$sort\": {\"avgScore\": -1}},\n",
    "                                                    {\"$limit\": 10}\n",
    "                                                ])"
   ]
  },
  {
   "cell_type": "markdown",
   "metadata": {},
   "source": [
    "#### Q5) Which restaurants have a zipcode that starts with '10', are Italian or Chinese cuisine, and have been graded 'A' in their latest grade?"
   ]
  },
  {
   "cell_type": "code",
   "execution_count": 11,
   "metadata": {},
   "outputs": [
    {
     "name": "stdout",
     "output_type": "stream",
     "text": [
      "\n",
      " Restaurants which have a zipcode that starts with '10' and they are of either Italian or Chinese cuisine and have been graded 'A' in their latest grade: \n",
      "\n",
      "{'name': 'Happy Garden'}\n",
      "{'name': 'Happy Garden'}\n",
      "{'name': 'Isle Of Capri Resturant'}\n",
      "{'name': 'Marchis Restaurant'}\n",
      "{'name': 'Crystal Room'}\n",
      "{'name': 'Forlinis Restaurant'}\n",
      "{'name': 'Angelo Of Mulberry St.'}\n",
      "{'name': \"Arturo'S\"}\n",
      "{'name': 'V & T Restaurant'}\n",
      "{'name': 'Barbetta Restaurant'}\n"
     ]
    },
    {
     "data": {
      "text/plain": [
       "[{'name': 'Happy Garden'},\n",
       " {'name': 'Happy Garden'},\n",
       " {'name': 'Isle Of Capri Resturant'},\n",
       " {'name': 'Marchis Restaurant'},\n",
       " {'name': 'Crystal Room'},\n",
       " {'name': 'Forlinis Restaurant'},\n",
       " {'name': 'Angelo Of Mulberry St.'},\n",
       " {'name': \"Arturo'S\"},\n",
       " {'name': 'V & T Restaurant'},\n",
       " {'name': 'Barbetta Restaurant'}]"
      ]
     },
     "execution_count": 11,
     "metadata": {},
     "output_type": "execute_result"
    }
   ],
   "source": [
    "print(\"\\n Restaurants which have a zipcode that starts with '10' and they are of either Italian or Chinese cuisine and have been graded 'A' in their latest grade: \\n\")\n",
    "mongo.search_query(collection_name=\"restaurants_collection\", qu = {\n",
    "                                                        \"address.zipcode\": { \"$regex\": \"^10\" },\n",
    "                                                        \"$or\": [\n",
    "                                                            { \"cuisine\": \"Italian\" },\n",
    "                                                            { \"cuisine\": \"Chinese\" }\n",
    "                                                        ],\n",
    "                                                        \"grades.0.grade\": \"A\"\n",
    "                                                    },\n",
    "                                            proj = {\n",
    "                                                \"_id\": 0,\n",
    "                                                \"name\": 1,\n",
    "                                            })"
   ]
  },
  {
   "cell_type": "markdown",
   "metadata": {},
   "source": [
    "#### Q6) Which restaurants are located in the Bronx borough and have an 'American' cuisine?"
   ]
  },
  {
   "cell_type": "code",
   "execution_count": 13,
   "metadata": {},
   "outputs": [
    {
     "name": "stdout",
     "output_type": "stream",
     "text": [
      "\n",
      " All restaurants that are located in the Bronx borough and have an 'American' cuisine: \n",
      "\n",
      "{'borough': 'Bronx', 'cuisine': 'American', 'name': 'Wild Asia'}\n",
      "{'borough': 'Bronx', 'cuisine': 'American', 'name': 'Manhem Club'}\n",
      "{'borough': 'Bronx', 'cuisine': 'American', 'name': 'The New Starling Athletic Club Of The Bronx'}\n",
      "{'borough': 'Bronx', 'cuisine': 'American', 'name': 'Yankee Tavern'}\n",
      "{'borough': 'Bronx', 'cuisine': 'American', 'name': 'The Punch Bowl'}\n"
     ]
    },
    {
     "data": {
      "text/plain": [
       "[{'borough': 'Bronx', 'cuisine': 'American', 'name': 'Wild Asia'},\n",
       " {'borough': 'Bronx', 'cuisine': 'American', 'name': 'Manhem Club'},\n",
       " {'borough': 'Bronx',\n",
       "  'cuisine': 'American',\n",
       "  'name': 'The New Starling Athletic Club Of The Bronx'},\n",
       " {'borough': 'Bronx', 'cuisine': 'American', 'name': 'Yankee Tavern'},\n",
       " {'borough': 'Bronx', 'cuisine': 'American', 'name': 'The Punch Bowl'}]"
      ]
     },
     "execution_count": 13,
     "metadata": {},
     "output_type": "execute_result"
    }
   ],
   "source": [
    "print(\"\\n All restaurants that are located in the Bronx borough and have an 'American' cuisine: \\n\")\n",
    "mongo.search_query(collection_name=\"restaurants_collection\", qu = {\"borough\": \"Bronx\", \"cuisine\": \"American\"}, \n",
    "                   proj={ \"_id\": 0,\n",
    "                          \"name\": 1,\n",
    "                          \"borough\": 1,\n",
    "                          \"cuisine\": 1}, lim=5)"
   ]
  },
  {
   "cell_type": "markdown",
   "metadata": {},
   "source": [
    "#### Q7) Which restaurants have a 'Pizza' cuisine and a 'B' grade in their latest inspection?"
   ]
  },
  {
   "cell_type": "code",
   "execution_count": 14,
   "metadata": {},
   "outputs": [
    {
     "name": "stdout",
     "output_type": "stream",
     "text": [
      "\n",
      " All restaurants that have a 'Pizza' cuisine and a 'B' grade in their latest inspection: \n",
      "\n",
      "{'borough': 'Queens', 'cuisine': 'Pizza', 'name': 'Pizza Town', 'grades': [{'date': {'$date': 1408579200000}, 'grade': 'B', 'score': 15}]}\n",
      "{'borough': 'Queens', 'cuisine': 'Pizza', 'name': 'Barone Pizza', 'grades': [{'date': {'$date': 1415836800000}, 'grade': 'B', 'score': 16}]}\n",
      "{'borough': 'Staten Island', 'cuisine': 'Pizza', 'name': \"Pizza D'Oro\", 'grades': [{'date': {'$date': 1407369600000}, 'grade': 'B', 'score': 21}]}\n",
      "{'borough': 'Manhattan', 'cuisine': 'Pizza', 'name': 'Sal And Carmine Pizza', 'grades': [{'date': {'$date': 1409097600000}, 'grade': 'B', 'score': 15}]}\n",
      "{'borough': 'Manhattan', 'cuisine': 'Pizza', 'name': 'Famous Famiglia Pizza', 'grades': [{'date': {'$date': 1408492800000}, 'grade': 'B', 'score': 25}]}\n"
     ]
    },
    {
     "data": {
      "text/plain": [
       "[{'borough': 'Queens',\n",
       "  'cuisine': 'Pizza',\n",
       "  'name': 'Pizza Town',\n",
       "  'grades': [{'date': {'$date': 1408579200000}, 'grade': 'B', 'score': 15}]},\n",
       " {'borough': 'Queens',\n",
       "  'cuisine': 'Pizza',\n",
       "  'name': 'Barone Pizza',\n",
       "  'grades': [{'date': {'$date': 1415836800000}, 'grade': 'B', 'score': 16}]},\n",
       " {'borough': 'Staten Island',\n",
       "  'cuisine': 'Pizza',\n",
       "  'name': \"Pizza D'Oro\",\n",
       "  'grades': [{'date': {'$date': 1407369600000}, 'grade': 'B', 'score': 21}]},\n",
       " {'borough': 'Manhattan',\n",
       "  'cuisine': 'Pizza',\n",
       "  'name': 'Sal And Carmine Pizza',\n",
       "  'grades': [{'date': {'$date': 1409097600000}, 'grade': 'B', 'score': 15}]},\n",
       " {'borough': 'Manhattan',\n",
       "  'cuisine': 'Pizza',\n",
       "  'name': 'Famous Famiglia Pizza',\n",
       "  'grades': [{'date': {'$date': 1408492800000}, 'grade': 'B', 'score': 25}]}]"
      ]
     },
     "execution_count": 14,
     "metadata": {},
     "output_type": "execute_result"
    }
   ],
   "source": [
    "print(\"\\n All restaurants that have a 'Pizza' cuisine and a 'B' grade in their latest inspection: \\n\")\n",
    "mongo.search_query(collection_name=\"restaurants_collection\",     qu={\n",
    "                                                                    \"cuisine\": \"Pizza\",\n",
    "                                                                    \"grades.0.grade\": \"B\"\n",
    "                                                                },\n",
    "                                                                proj={\n",
    "                                                                    \"_id\": 0,\n",
    "                                                                    \"name\": 1,\n",
    "                                                                    \"borough\": 1,\n",
    "                                                                    \"cuisine\": 1,\n",
    "                                                                    \"grades\": {\n",
    "                                                                        \"$elemMatch\": {\"grade\": \"B\"}\n",
    "                                                                    }\n",
    "                                                                }, lim=5)"
   ]
  },
  {
   "cell_type": "markdown",
   "metadata": {},
   "source": [
    "#### Q8) What are the top 5 restaurants with the highest average score for their grades? Only show their name, cuisine, and average score"
   ]
  },
  {
   "cell_type": "code",
   "execution_count": 15,
   "metadata": {},
   "outputs": [
    {
     "name": "stdout",
     "output_type": "stream",
     "text": [
      "\n",
      " Top 5 restaurants with the highest average score for their grades, and only show their name, cuisine, and average score: \n",
      "\n",
      "{'cuisine': 'Bakery', 'name': 'Morris Park Bake Shop', 'avgScore': 8.2}\n",
      "{'cuisine': 'Hamburgers', 'name': \"Wendy'S\", 'avgScore': 13.75}\n",
      "{'cuisine': 'Irish', 'name': 'Dj Reynolds Pub And Restaurant', 'avgScore': 9.25}\n",
      "{'cuisine': 'American', 'name': 'Riviera Caterer', 'avgScore': 9.0}\n",
      "{'cuisine': 'Jewish/Kosher', 'name': 'Tov Kosher Kitchen', 'avgScore': 17.75}\n"
     ]
    },
    {
     "data": {
      "text/plain": [
       "[{'cuisine': 'Bakery', 'name': 'Morris Park Bake Shop', 'avgScore': 8.2},\n",
       " {'cuisine': 'Hamburgers', 'name': \"Wendy'S\", 'avgScore': 13.75},\n",
       " {'cuisine': 'Irish',\n",
       "  'name': 'Dj Reynolds Pub And Restaurant',\n",
       "  'avgScore': 9.25},\n",
       " {'cuisine': 'American', 'name': 'Riviera Caterer', 'avgScore': 9.0},\n",
       " {'cuisine': 'Jewish/Kosher', 'name': 'Tov Kosher Kitchen', 'avgScore': 17.75}]"
      ]
     },
     "execution_count": 15,
     "metadata": {},
     "output_type": "execute_result"
    }
   ],
   "source": [
    "print(\"\\n Top 5 restaurants with the highest average score for their grades, and only show their name, cuisine, and average score: \\n\")\n",
    "mongo.search_query(collection_name=\"restaurants_collection\",qu={}, proj={\"name\": 1, \"cuisine\": 1, \"avgScore\": {\"$avg\": \"$grades.score\"}, \"_id\": 0}, lim=5)"
   ]
  },
  {
   "cell_type": "markdown",
   "metadata": {},
   "source": [
    "#### Q9) Which restaurants have a 'Chinese' or 'Japanese' cuisine, are located in the 'Queens' borough, and have a grade 'A' in their latest inspection?"
   ]
  },
  {
   "cell_type": "code",
   "execution_count": 16,
   "metadata": {},
   "outputs": [
    {
     "name": "stdout",
     "output_type": "stream",
     "text": [
      "\n",
      " All restaurants that have a 'Chinese' or 'Japanese' cuisine, and are located in the 'Queens' borough, and have a grade 'A' in their latest inspection. \n",
      "\n",
      "{'borough': 'Queens', 'cuisine': 'Chinese', 'grades': [{'date': {'$date': 1398038400000}, 'grade': 'A', 'score': 10}, {'date': {'$date': 1384214400000}, 'grade': 'A', 'score': 5}, {'date': {'$date': 1370304000000}, 'grade': 'A', 'score': 12}, {'date': {'$date': 1352851200000}, 'grade': 'A', 'score': 10}, {'date': {'$date': 1349913600000}, 'grade': 'P', 'score': 0}, {'date': {'$date': 1337817600000}, 'grade': 'A', 'score': 13}, {'date': {'$date': 1323302400000}, 'grade': 'A', 'score': 12}, {'date': {'$date': 1311120000000}, 'grade': 'A', 'score': 11}], 'name': 'Ho Mei Restaurant'}\n",
      "{'borough': 'Queens', 'cuisine': 'Japanese', 'grades': [{'date': {'$date': 1403654400000}, 'grade': 'A', 'score': 6}, {'date': {'$date': 1389225600000}, 'grade': 'A', 'score': 10}, {'date': {'$date': 1367452800000}, 'grade': 'A', 'score': 2}, {'date': {'$date': 1347321600000}, 'grade': 'A', 'score': 11}, {'date': {'$date': 1329091200000}, 'grade': 'A', 'score': 4}, {'date': {'$date': 1316044800000}, 'grade': 'B', 'score': 27}], 'name': 'Narita Japanese Restaurant'}\n",
      "{'borough': 'Queens', 'cuisine': 'Chinese', 'grades': [{'date': {'$date': 1401840000000}, 'grade': 'A', 'score': 13}, {'date': {'$date': 1387843200000}, 'grade': 'A', 'score': 12}, {'date': {'$date': 1370908800000}, 'grade': 'A', 'score': 13}, {'date': {'$date': 1336780800000}, 'grade': 'A', 'score': 13}, {'date': {'$date': 1321488000000}, 'grade': 'A', 'score': 12}, {'date': {'$date': 1310428800000}, 'grade': 'B', 'score': 16}], 'name': 'Baybridge Szechuan Restaurant'}\n",
      "{'borough': 'Queens', 'cuisine': 'Chinese', 'grades': [{'date': {'$date': 1413417600000}, 'grade': 'A', 'score': 11}, {'date': {'$date': 1379548800000}, 'grade': 'A', 'score': 11}, {'date': {'$date': 1346803200000}, 'grade': 'A', 'score': 9}], 'name': 'Peking Restaurant'}\n",
      "{'borough': 'Queens', 'cuisine': 'Japanese', 'grades': [{'date': {'$date': 1410307200000}, 'grade': 'A', 'score': 10}, {'date': {'$date': 1394668800000}, 'grade': 'A', 'score': 12}, {'date': {'$date': 1373846400000}, 'grade': 'A', 'score': 9}, {'date': {'$date': 1356566400000}, 'grade': 'A', 'score': 5}, {'date': {'$date': 1337299200000}, 'grade': 'A', 'score': 5}, {'date': {'$date': 1323216000000}, 'grade': 'B', 'score': 14}], 'name': 'Sushi Family'}\n"
     ]
    },
    {
     "data": {
      "text/plain": [
       "[{'borough': 'Queens',\n",
       "  'cuisine': 'Chinese',\n",
       "  'grades': [{'date': {'$date': 1398038400000}, 'grade': 'A', 'score': 10},\n",
       "   {'date': {'$date': 1384214400000}, 'grade': 'A', 'score': 5},\n",
       "   {'date': {'$date': 1370304000000}, 'grade': 'A', 'score': 12},\n",
       "   {'date': {'$date': 1352851200000}, 'grade': 'A', 'score': 10},\n",
       "   {'date': {'$date': 1349913600000}, 'grade': 'P', 'score': 0},\n",
       "   {'date': {'$date': 1337817600000}, 'grade': 'A', 'score': 13},\n",
       "   {'date': {'$date': 1323302400000}, 'grade': 'A', 'score': 12},\n",
       "   {'date': {'$date': 1311120000000}, 'grade': 'A', 'score': 11}],\n",
       "  'name': 'Ho Mei Restaurant'},\n",
       " {'borough': 'Queens',\n",
       "  'cuisine': 'Japanese',\n",
       "  'grades': [{'date': {'$date': 1403654400000}, 'grade': 'A', 'score': 6},\n",
       "   {'date': {'$date': 1389225600000}, 'grade': 'A', 'score': 10},\n",
       "   {'date': {'$date': 1367452800000}, 'grade': 'A', 'score': 2},\n",
       "   {'date': {'$date': 1347321600000}, 'grade': 'A', 'score': 11},\n",
       "   {'date': {'$date': 1329091200000}, 'grade': 'A', 'score': 4},\n",
       "   {'date': {'$date': 1316044800000}, 'grade': 'B', 'score': 27}],\n",
       "  'name': 'Narita Japanese Restaurant'},\n",
       " {'borough': 'Queens',\n",
       "  'cuisine': 'Chinese',\n",
       "  'grades': [{'date': {'$date': 1401840000000}, 'grade': 'A', 'score': 13},\n",
       "   {'date': {'$date': 1387843200000}, 'grade': 'A', 'score': 12},\n",
       "   {'date': {'$date': 1370908800000}, 'grade': 'A', 'score': 13},\n",
       "   {'date': {'$date': 1336780800000}, 'grade': 'A', 'score': 13},\n",
       "   {'date': {'$date': 1321488000000}, 'grade': 'A', 'score': 12},\n",
       "   {'date': {'$date': 1310428800000}, 'grade': 'B', 'score': 16}],\n",
       "  'name': 'Baybridge Szechuan Restaurant'},\n",
       " {'borough': 'Queens',\n",
       "  'cuisine': 'Chinese',\n",
       "  'grades': [{'date': {'$date': 1413417600000}, 'grade': 'A', 'score': 11},\n",
       "   {'date': {'$date': 1379548800000}, 'grade': 'A', 'score': 11},\n",
       "   {'date': {'$date': 1346803200000}, 'grade': 'A', 'score': 9}],\n",
       "  'name': 'Peking Restaurant'},\n",
       " {'borough': 'Queens',\n",
       "  'cuisine': 'Japanese',\n",
       "  'grades': [{'date': {'$date': 1410307200000}, 'grade': 'A', 'score': 10},\n",
       "   {'date': {'$date': 1394668800000}, 'grade': 'A', 'score': 12},\n",
       "   {'date': {'$date': 1373846400000}, 'grade': 'A', 'score': 9},\n",
       "   {'date': {'$date': 1356566400000}, 'grade': 'A', 'score': 5},\n",
       "   {'date': {'$date': 1337299200000}, 'grade': 'A', 'score': 5},\n",
       "   {'date': {'$date': 1323216000000}, 'grade': 'B', 'score': 14}],\n",
       "  'name': 'Sushi Family'}]"
      ]
     },
     "execution_count": 16,
     "metadata": {},
     "output_type": "execute_result"
    }
   ],
   "source": [
    "print(\"\\n All restaurants that have a 'Chinese' or 'Japanese' cuisine, and are located in the 'Queens' borough, and have a grade 'A' in their latest inspection. \\n\")\n",
    "mongo.search_query(collection_name=\"restaurants_collection\",     qu={\n",
    "                                                                    \"borough\": \"Queens\", \n",
    "                                                                    \"cuisine\": {\"$in\": [\"Chinese\", \"Japanese\"]}, \n",
    "                                                                    \"grades.0.grade\": \"A\"\n",
    "                                                                }, \n",
    "                                                                proj={\n",
    "                                                                    \"name\": 1, \n",
    "                                                                    \"borough\": 1, \n",
    "                                                                    \"cuisine\": 1, \n",
    "                                                                    \"grades\": 1,\n",
    "                                                                    \"_id\": 0\n",
    "                                                                },\n",
    "                                                                lim=5)"
   ]
  },
  {
   "cell_type": "markdown",
   "metadata": {},
   "source": [
    "#### Q10) What is the distribution of restaurants across different cuisines in the NYC boroughs"
   ]
  },
  {
   "cell_type": "code",
   "execution_count": 23,
   "metadata": {},
   "outputs": [
    {
     "name": "stdout",
     "output_type": "stream",
     "text": [
      "\n",
      " Query to make a visualization of the distribution of restaurants across different cuisines in the NYC boroughs: \n",
      "\n",
      "{'borough': 'Staten Island', 'cuisine': 'Delicatessen', 'count': 16}\n",
      "{'borough': 'Bronx', 'cuisine': 'Ice Cream, Gelato, Yogurt, Ices', 'count': 27}\n",
      "{'borough': 'Queens', 'cuisine': 'Pakistani', 'count': 11}\n",
      "{'borough': 'Bronx', 'cuisine': 'Chicken', 'count': 108}\n",
      "{'borough': 'Queens', 'cuisine': 'Latin (Cuban, Dominican, Puerto Rican, South & Central American)', 'count': 300}\n",
      "{'borough': 'Brooklyn', 'cuisine': 'Russian', 'count': 65}\n",
      "{'borough': 'Bronx', 'cuisine': 'Middle Eastern', 'count': 3}\n",
      "{'borough': 'Staten Island', 'cuisine': 'Turkish', 'count': 1}\n",
      "{'borough': 'Staten Island', 'cuisine': 'Hamburgers', 'count': 25}\n",
      "{'borough': 'Queens', 'cuisine': 'Peruvian', 'count': 40}\n"
     ]
    }
   ],
   "source": [
    "print(\"\\n Query to make a visualization of the distribution of restaurants across different cuisines in the NYC boroughs: \\n\")\n",
    "res: list = mongo.aggregate_query(\"restaurants_collection\", [{\"$group\": {\"_id\": {\"borough\": \"$borough\", \"cuisine\": \"$cuisine\"}, \"count\": {\"$sum\": 1}}},\n",
    "                                                                {\"$project\": {\"borough\": \"$_id.borough\", \"cuisine\": \"$_id.cuisine\", \"count\": \"$count\", \"_id\": 0}}]\n",
    "                                                                , show=False)\n",
    "for item in res[:10]:\n",
    "    print(item)"
   ]
  },
  {
   "cell_type": "code",
   "execution_count": null,
   "metadata": {},
   "outputs": [],
   "source": []
  }
 ],
 "metadata": {
  "kernelspec": {
   "display_name": "Python 3",
   "language": "python",
   "name": "python3"
  },
  "language_info": {
   "codemirror_mode": {
    "name": "ipython",
    "version": 3
   },
   "file_extension": ".py",
   "mimetype": "text/x-python",
   "name": "python",
   "nbconvert_exporter": "python",
   "pygments_lexer": "ipython3",
   "version": "3.8.5"
  },
  "pycharm": {
   "stem_cell": {
    "cell_type": "raw",
    "metadata": {
     "collapsed": false
    },
    "source": [
     "from mongo_connection import MongoDriver\n",
     "\n",
     "\n"
    ]
   }
  }
 },
 "nbformat": 4,
 "nbformat_minor": 4
}
