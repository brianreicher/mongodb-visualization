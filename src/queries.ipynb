{
 "cells": [
  {
   "cell_type": "code",
   "execution_count": 1,
   "metadata": {},
   "outputs": [],
   "source": [
    "from mongo_connection import MongoDriver"
   ]
  },
  {
   "cell_type": "code",
   "execution_count": 2,
   "metadata": {},
   "outputs": [
    {
     "name": "stdout",
     "output_type": "stream",
     "text": [
      "Database(MongoClient(host=['localhost:27017'], document_class=dict, tz_aware=False, connect=True), 'restaurants')\n"
     ]
    }
   ],
   "source": [
    "mongo: MongoDriver = MongoDriver('localhost', 27017, 'restaurants')\n",
    "mongo.connect()\n",
    "\n",
    "if mongo.collection_size(\"restaurants_collection\") == 0:\n",
    "    mongo.insert_data('restaurants_collection', 'data/restaurants.json', clear=False)"
   ]
  },
  {
   "cell_type": "markdown",
   "metadata": {},
   "source": [
    "#### Q1) How many McDonald's are in NYC?"
   ]
  },
  {
   "cell_type": "code",
   "execution_count": 3,
   "metadata": {
    "scrolled": true
   },
   "outputs": [
    {
     "name": "stdout",
     "output_type": "stream",
     "text": [
      "\n",
      " Number of McDonald's in NYC: \n",
      "\n"
     ]
    },
    {
     "data": {
      "text/plain": [
       "[{'totalMcDonalds': 208}]"
      ]
     },
     "execution_count": 3,
     "metadata": {},
     "output_type": "execute_result"
    }
   ],
   "source": [
    "print(\"\\n Number of McDonald's in NYC: \\n\")\n",
    "mongo.aggregate_query(\"restaurants_collection\", [\n",
    "                                                {\n",
    "                                                    \"$match\": {\n",
    "                                                                \"name\":\"Mcdonald'S\"\n",
    "                                                                }\n",
    "                                                },\n",
    "                                                {\"$count\":\"totalMcDonalds\"}\n",
    "                                                ])"
   ]
  },
  {
   "cell_type": "markdown",
   "metadata": {},
   "source": [
    "#### Q2) How many restaurants are in each bourough?"
   ]
  },
  {
   "cell_type": "code",
   "execution_count": 4,
   "metadata": {},
   "outputs": [
    {
     "name": "stdout",
     "output_type": "stream",
     "text": [
      "\n",
      " Number of restaurants in each bourough: \n",
      "\n"
     ]
    },
    {
     "data": {
      "text/plain": [
       "[{'_id': 'Bronx', 'count': 2338},\n",
       " {'_id': 'Manhattan', 'count': 10259},\n",
       " {'_id': 'Brooklyn', 'count': 6086},\n",
       " {'_id': 'Staten Island', 'count': 969},\n",
       " {'_id': 'Queens', 'count': 5656},\n",
       " {'_id': 'Missing', 'count': 51}]"
      ]
     },
     "execution_count": 4,
     "metadata": {},
     "output_type": "execute_result"
    }
   ],
   "source": [
    "print(\"\\n Number of restaurants in each bourough: \\n\")\n",
    "mongo.aggregate_query(\"restaurants_collection\", [\n",
    "                                                {\n",
    "                                                    '$group': {\n",
    "                                                        '_id': '$borough',\n",
    "                                                        'count': {'$sum': 1}\n",
    "                                                    }\n",
    "                                                }\n",
    "                                            ])"
   ]
  },
  {
   "cell_type": "markdown",
   "metadata": {},
   "source": [
    "#### Q3) Which boroughs, sorted by count, have the highest number of Chinese restaurants?"
   ]
  },
  {
   "cell_type": "code",
   "execution_count": 5,
   "metadata": {},
   "outputs": [
    {
     "name": "stdout",
     "output_type": "stream",
     "text": [
      "\n",
      " Boroughs with the highest number of Chinese restaurants --> give the number of Chinese restaurants in each boroughough: \n",
      "\n"
     ]
    },
    {
     "data": {
      "text/plain": [
       "[{'_id': 'Brooklyn', 'count': 763},\n",
       " {'_id': 'Queens', 'count': 728},\n",
       " {'_id': 'Manhattan', 'count': 510},\n",
       " {'_id': 'Bronx', 'count': 323},\n",
       " {'_id': 'Staten Island', 'count': 88},\n",
       " {'_id': 'Missing', 'count': 6}]"
      ]
     },
     "execution_count": 5,
     "metadata": {},
     "output_type": "execute_result"
    }
   ],
   "source": [
    "print(\"\\n Boroughs with the highest number of Chinese restaurants --> give the number of Chinese restaurants in each boroughough: \\n\")\n",
    "mongo.aggregate_query(\"restaurants_collection\", [\n",
    "                                                { \"$match\": { \"cuisine\": \"Chinese\" } },\n",
    "                                                {\n",
    "                                                    \"$group\": {\n",
    "                                                    \"_id\": \"$borough\",\n",
    "                                                    \"count\": { \"$sum\": 1 }\n",
    "                                                    }\n",
    "                                                },\n",
    "                                                { \"$sort\": { \"count\": -1 } }\n",
    "                                                ])"
   ]
  },
  {
   "cell_type": "markdown",
   "metadata": {},
   "source": [
    "#### Q4) What are the 10 restaurants with the highest average score, sorted by average score? (min 5 reviews)"
   ]
  },
  {
   "cell_type": "code",
   "execution_count": 7,
   "metadata": {},
   "outputs": [
    {
     "name": "stdout",
     "output_type": "stream",
     "text": [
      "\n",
      " Top 10 restaurants with the highest average score, sorted by average score (min 5 reviews): \n",
      "\n"
     ]
    },
    {
     "data": {
      "text/plain": [
       "[]"
      ]
     },
     "execution_count": 7,
     "metadata": {},
     "output_type": "execute_result"
    }
   ],
   "source": [
    "print(\"\\n Top 10 restaurants with the highest average score, sorted by average score (min 5 reviews): \\n\")\n",
    "mongo.aggregate_query(\"restaurants_collection\", \n",
    "                                                   [{\"$match\": {\"grades\":{\"$gt\": 3}}},\n",
    "                                                    {\"$project\": {\n",
    "                                                        \"name\": 1,\n",
    "                                                        \"borough\": 1,\n",
    "                                                        \"cuisine\": 1,\n",
    "                                                        \"grades\": 1,\n",
    "                                                        \"avgScore\": {\"$avg\": \"$grades.score\"}\n",
    "                                                    }},\n",
    "                                                    {\"$sort\": {\"avgScore\": -1}},\n",
    "                                                    {\"$limit\": 10}\n",
    "                                                ])"
   ]
  },
  {
   "cell_type": "markdown",
   "metadata": {},
   "source": [
    "#### Q5) Which restaurants have a zipcode that starts with '10', are Italian or Chinese cuisine, and have been graded 'A' in their latest grade?"
   ]
  },
  {
   "cell_type": "code",
   "execution_count": 8,
   "metadata": {},
   "outputs": [
    {
     "name": "stdout",
     "output_type": "stream",
     "text": [
      "\n",
      " Restaurants which have a zipcode that starts with '10' and they are of either Italian or Chinese cuisine and have been graded 'A' in their latest grade: \n",
      "\n"
     ]
    },
    {
     "data": {
      "text/plain": [
       "[{'name': 'Happy Garden'},\n",
       " {'name': 'Happy Garden'},\n",
       " {'name': 'Isle Of Capri Resturant'},\n",
       " {'name': 'Marchis Restaurant'},\n",
       " {'name': 'Crystal Room'},\n",
       " {'name': 'Forlinis Restaurant'},\n",
       " {'name': 'Angelo Of Mulberry St.'},\n",
       " {'name': \"Arturo'S\"},\n",
       " {'name': 'V & T Restaurant'},\n",
       " {'name': 'Barbetta Restaurant'}]"
      ]
     },
     "execution_count": 8,
     "metadata": {},
     "output_type": "execute_result"
    }
   ],
   "source": [
    "print(\"\\n Restaurants which have a zipcode that starts with '10' and they are of either Italian or Chinese cuisine and have been graded 'A' in their latest grade: \\n\")\n",
    "mongo.search_query(collection_name=\"restaurants_collection\", qu = {\n",
    "                                                        \"address.zipcode\": { \"$regex\": \"^10\" },\n",
    "                                                        \"$or\": [\n",
    "                                                            { \"cuisine\": \"Italian\" },\n",
    "                                                            { \"cuisine\": \"Chinese\" }\n",
    "                                                        ],\n",
    "                                                        \"grades.0.grade\": \"A\"\n",
    "                                                    },\n",
    "                                            proj = {\n",
    "                                                \"_id\": 0,\n",
    "                                                \"name\": 1,\n",
    "                                            })"
   ]
  },
  {
   "cell_type": "markdown",
   "metadata": {},
   "source": [
    "#### Q6) Which restaurants are located in the Bronx borough and have an 'American' cuisine?"
   ]
  },
  {
   "cell_type": "code",
   "execution_count": 9,
   "metadata": {},
   "outputs": [
    {
     "name": "stdout",
     "output_type": "stream",
     "text": [
      "\n",
      " All restaurants that are located in the Bronx borough and have an 'American' cuisine: \n",
      "\n"
     ]
    },
    {
     "data": {
      "text/plain": [
       "[{'borough': 'Bronx', 'cuisine': 'American', 'name': 'Wild Asia'},\n",
       " {'borough': 'Bronx', 'cuisine': 'American', 'name': 'Manhem Club'},\n",
       " {'borough': 'Bronx',\n",
       "  'cuisine': 'American',\n",
       "  'name': 'The New Starling Athletic Club Of The Bronx'},\n",
       " {'borough': 'Bronx', 'cuisine': 'American', 'name': 'Yankee Tavern'},\n",
       " {'borough': 'Bronx', 'cuisine': 'American', 'name': 'The Punch Bowl'}]"
      ]
     },
     "execution_count": 9,
     "metadata": {},
     "output_type": "execute_result"
    }
   ],
   "source": [
    "print(\"\\n All restaurants that are located in the Bronx borough and have an 'American' cuisine: \\n\")\n",
    "mongo.search_query(collection_name=\"restaurants_collection\", qu = {\"borough\": \"Bronx\", \"cuisine\": \"American\"}, \n",
    "                   proj={ \"_id\": 0,\n",
    "                          \"name\": 1,\n",
    "                          \"borough\": 1,\n",
    "                          \"cuisine\": 1}, lim=5)"
   ]
  },
  {
   "cell_type": "markdown",
   "metadata": {},
   "source": [
    "#### Q7) Which restaurants have a 'Pizza' cuisine and a 'B' grade in their latest inspection?"
   ]
  },
  {
   "cell_type": "code",
   "execution_count": 10,
   "metadata": {},
   "outputs": [
    {
     "name": "stdout",
     "output_type": "stream",
     "text": [
      "\n",
      " All restaurants that have a 'Pizza' cuisine and a 'B' grade in their latest inspection: \n",
      "\n"
     ]
    },
    {
     "data": {
      "text/plain": [
       "[{'borough': 'Queens',\n",
       "  'cuisine': 'Pizza',\n",
       "  'name': 'Pizza Town',\n",
       "  'grades': [{'date': {'$date': 1408579200000}, 'grade': 'B', 'score': 15}]},\n",
       " {'borough': 'Queens',\n",
       "  'cuisine': 'Pizza',\n",
       "  'name': 'Barone Pizza',\n",
       "  'grades': [{'date': {'$date': 1415836800000}, 'grade': 'B', 'score': 16}]},\n",
       " {'borough': 'Staten Island',\n",
       "  'cuisine': 'Pizza',\n",
       "  'name': \"Pizza D'Oro\",\n",
       "  'grades': [{'date': {'$date': 1407369600000}, 'grade': 'B', 'score': 21}]},\n",
       " {'borough': 'Manhattan',\n",
       "  'cuisine': 'Pizza',\n",
       "  'name': 'Sal And Carmine Pizza',\n",
       "  'grades': [{'date': {'$date': 1409097600000}, 'grade': 'B', 'score': 15}]},\n",
       " {'borough': 'Manhattan',\n",
       "  'cuisine': 'Pizza',\n",
       "  'name': 'Famous Famiglia Pizza',\n",
       "  'grades': [{'date': {'$date': 1408492800000}, 'grade': 'B', 'score': 25}]}]"
      ]
     },
     "execution_count": 10,
     "metadata": {},
     "output_type": "execute_result"
    }
   ],
   "source": [
    "print(\"\\n All restaurants that have a 'Pizza' cuisine and a 'B' grade in their latest inspection: \\n\")\n",
    "mongo.search_query(collection_name=\"restaurants_collection\",     qu={\n",
    "                                                                    \"cuisine\": \"Pizza\",\n",
    "                                                                    \"grades.0.grade\": \"B\"\n",
    "                                                                },\n",
    "                                                                proj={\n",
    "                                                                    \"_id\": 0,\n",
    "                                                                    \"name\": 1,\n",
    "                                                                    \"borough\": 1,\n",
    "                                                                    \"cuisine\": 1,\n",
    "                                                                    \"grades\": {\n",
    "                                                                        \"$elemMatch\": {\"grade\": \"B\"}\n",
    "                                                                    }\n",
    "                                                                }, lim=5)"
   ]
  },
  {
   "cell_type": "markdown",
   "metadata": {},
   "source": [
    "#### Q8) What are the top 5 restaurants with the highest average score for their grades? Only show their name, cuisine, and average score"
   ]
  },
  {
   "cell_type": "code",
   "execution_count": 11,
   "metadata": {},
   "outputs": [
    {
     "name": "stdout",
     "output_type": "stream",
     "text": [
      "\n",
      " Top 5 restaurants with the highest average score for their grades, and only show their name, cuisine, and average score: \n",
      "\n"
     ]
    },
    {
     "data": {
      "text/plain": [
       "[{'cuisine': 'Bakery', 'name': 'Morris Park Bake Shop', 'avgScore': 8.2},\n",
       " {'cuisine': 'Hamburgers', 'name': \"Wendy'S\", 'avgScore': 13.75},\n",
       " {'cuisine': 'Irish',\n",
       "  'name': 'Dj Reynolds Pub And Restaurant',\n",
       "  'avgScore': 9.25},\n",
       " {'cuisine': 'American', 'name': 'Riviera Caterer', 'avgScore': 9.0},\n",
       " {'cuisine': 'Jewish/Kosher', 'name': 'Tov Kosher Kitchen', 'avgScore': 17.75}]"
      ]
     },
     "execution_count": 11,
     "metadata": {},
     "output_type": "execute_result"
    }
   ],
   "source": [
    "print(\"\\n Top 5 restaurants with the highest average score for their grades, and only show their name, cuisine, and average score: \\n\")\n",
    "mongo.search_query(collection_name=\"restaurants_collection\",qu={}, proj={\"name\": 1, \"cuisine\": 1, \"avgScore\": {\"$avg\": \"$grades.score\"}, \"_id\": 0}, lim=5)"
   ]
  },
  {
   "cell_type": "markdown",
   "metadata": {},
   "source": [
    "#### Q9) Which restaurants have a 'Chinese' or 'Japanese' cuisine, are located in the 'Queens' borough, and have a grade 'A' in their latest inspection?"
   ]
  },
  {
   "cell_type": "code",
   "execution_count": 12,
   "metadata": {},
   "outputs": [
    {
     "name": "stdout",
     "output_type": "stream",
     "text": [
      "\n",
      " All restaurants that have a 'Chinese' or 'Japanese' cuisine, and are located in the 'Queens' borough, and have a grade 'A' in their latest inspection. \n",
      "\n"
     ]
    },
    {
     "data": {
      "text/plain": [
       "[{'borough': 'Queens',\n",
       "  'cuisine': 'Chinese',\n",
       "  'grades': [{'date': {'$date': 1398038400000}, 'grade': 'A', 'score': 10},\n",
       "   {'date': {'$date': 1384214400000}, 'grade': 'A', 'score': 5},\n",
       "   {'date': {'$date': 1370304000000}, 'grade': 'A', 'score': 12},\n",
       "   {'date': {'$date': 1352851200000}, 'grade': 'A', 'score': 10},\n",
       "   {'date': {'$date': 1349913600000}, 'grade': 'P', 'score': 0},\n",
       "   {'date': {'$date': 1337817600000}, 'grade': 'A', 'score': 13},\n",
       "   {'date': {'$date': 1323302400000}, 'grade': 'A', 'score': 12},\n",
       "   {'date': {'$date': 1311120000000}, 'grade': 'A', 'score': 11}],\n",
       "  'name': 'Ho Mei Restaurant'},\n",
       " {'borough': 'Queens',\n",
       "  'cuisine': 'Japanese',\n",
       "  'grades': [{'date': {'$date': 1403654400000}, 'grade': 'A', 'score': 6},\n",
       "   {'date': {'$date': 1389225600000}, 'grade': 'A', 'score': 10},\n",
       "   {'date': {'$date': 1367452800000}, 'grade': 'A', 'score': 2},\n",
       "   {'date': {'$date': 1347321600000}, 'grade': 'A', 'score': 11},\n",
       "   {'date': {'$date': 1329091200000}, 'grade': 'A', 'score': 4},\n",
       "   {'date': {'$date': 1316044800000}, 'grade': 'B', 'score': 27}],\n",
       "  'name': 'Narita Japanese Restaurant'},\n",
       " {'borough': 'Queens',\n",
       "  'cuisine': 'Chinese',\n",
       "  'grades': [{'date': {'$date': 1401840000000}, 'grade': 'A', 'score': 13},\n",
       "   {'date': {'$date': 1387843200000}, 'grade': 'A', 'score': 12},\n",
       "   {'date': {'$date': 1370908800000}, 'grade': 'A', 'score': 13},\n",
       "   {'date': {'$date': 1336780800000}, 'grade': 'A', 'score': 13},\n",
       "   {'date': {'$date': 1321488000000}, 'grade': 'A', 'score': 12},\n",
       "   {'date': {'$date': 1310428800000}, 'grade': 'B', 'score': 16}],\n",
       "  'name': 'Baybridge Szechuan Restaurant'},\n",
       " {'borough': 'Queens',\n",
       "  'cuisine': 'Chinese',\n",
       "  'grades': [{'date': {'$date': 1413417600000}, 'grade': 'A', 'score': 11},\n",
       "   {'date': {'$date': 1379548800000}, 'grade': 'A', 'score': 11},\n",
       "   {'date': {'$date': 1346803200000}, 'grade': 'A', 'score': 9}],\n",
       "  'name': 'Peking Restaurant'},\n",
       " {'borough': 'Queens',\n",
       "  'cuisine': 'Japanese',\n",
       "  'grades': [{'date': {'$date': 1410307200000}, 'grade': 'A', 'score': 10},\n",
       "   {'date': {'$date': 1394668800000}, 'grade': 'A', 'score': 12},\n",
       "   {'date': {'$date': 1373846400000}, 'grade': 'A', 'score': 9},\n",
       "   {'date': {'$date': 1356566400000}, 'grade': 'A', 'score': 5},\n",
       "   {'date': {'$date': 1337299200000}, 'grade': 'A', 'score': 5},\n",
       "   {'date': {'$date': 1323216000000}, 'grade': 'B', 'score': 14}],\n",
       "  'name': 'Sushi Family'}]"
      ]
     },
     "execution_count": 12,
     "metadata": {},
     "output_type": "execute_result"
    }
   ],
   "source": [
    "print(\"\\n All restaurants that have a 'Chinese' or 'Japanese' cuisine, and are located in the 'Queens' borough, and have a grade 'A' in their latest inspection. \\n\")\n",
    "mongo.search_query(collection_name=\"restaurants_collection\",     qu={\n",
    "                                                                    \"borough\": \"Queens\", \n",
    "                                                                    \"cuisine\": {\"$in\": [\"Chinese\", \"Japanese\"]}, \n",
    "                                                                    \"grades.0.grade\": \"A\"\n",
    "                                                                }, \n",
    "                                                                proj={\n",
    "                                                                    \"name\": 1, \n",
    "                                                                    \"borough\": 1, \n",
    "                                                                    \"cuisine\": 1, \n",
    "                                                                    \"grades\": 1,\n",
    "                                                                    \"_id\": 0\n",
    "                                                                },\n",
    "                                                                lim=5)"
   ]
  },
  {
   "cell_type": "markdown",
   "metadata": {},
   "source": [
    "#### Q10) What is the distribution of restaurants across different cuisines in the NYC boroughs"
   ]
  },
  {
   "cell_type": "code",
   "execution_count": 15,
   "metadata": {},
   "outputs": [
    {
     "name": "stdout",
     "output_type": "stream",
     "text": [
      "\n",
      " Query to make a visualization of the distribution of restaurants across different cuisines in the NYC boroughs: \n",
      "\n",
      "{'borough': 'Bronx', 'cuisine': 'Greek', 'count': 4}\n",
      "{'borough': 'Manhattan', 'cuisine': 'Pancakes/Waffles', 'count': 4}\n",
      "{'borough': 'Queens', 'cuisine': 'Donuts', 'count': 135}\n",
      "{'borough': 'Queens', 'cuisine': 'Egyptian', 'count': 6}\n",
      "{'borough': 'Queens', 'cuisine': 'African', 'count': 5}\n",
      "{'borough': 'Manhattan', 'cuisine': 'Chinese/Cuban', 'count': 4}\n",
      "{'borough': 'Staten Island', 'cuisine': 'German', 'count': 3}\n",
      "{'borough': 'Staten Island', 'cuisine': 'Bagels/Pretzels', 'count': 14}\n",
      "{'borough': 'Manhattan', 'cuisine': 'Hotdogs/Pretzels', 'count': 11}\n",
      "{'borough': 'Brooklyn', 'cuisine': 'Donuts', 'count': 109}\n"
     ]
    },
    {
     "data": {
      "application/vnd.plotly.v1+json": {
       "config": {
        "plotlyServerURL": "https://plot.ly"
       },
       "data": [
        {
         "alignmentgroup": "True",
         "hovertemplate": "cuisine=Greek<br>borough=%{x}<br>count=%{y}<extra></extra>",
         "legendgroup": "Greek",
         "marker": {
          "color": "#636efa",
          "pattern": {
           "shape": ""
          }
         },
         "name": "Greek",
         "offsetgroup": "Greek",
         "orientation": "v",
         "showlegend": true,
         "textposition": "auto",
         "type": "bar",
         "x": [
          "Bronx",
          "Manhattan",
          "Queens",
          "Brooklyn"
         ],
         "xaxis": "x",
         "y": [
          4,
          35,
          58,
          14
         ],
         "yaxis": "y"
        },
        {
         "alignmentgroup": "True",
         "hovertemplate": "cuisine=Pancakes/Waffles<br>borough=%{x}<br>count=%{y}<extra></extra>",
         "legendgroup": "Pancakes/Waffles",
         "marker": {
          "color": "#EF553B",
          "pattern": {
           "shape": ""
          }
         },
         "name": "Pancakes/Waffles",
         "offsetgroup": "Pancakes/Waffles",
         "orientation": "v",
         "showlegend": true,
         "textposition": "auto",
         "type": "bar",
         "x": [
          "Manhattan",
          "Bronx",
          "Queens",
          "Brooklyn",
          "Staten Island"
         ],
         "xaxis": "x",
         "y": [
          4,
          4,
          5,
          2,
          1
         ],
         "yaxis": "y"
        },
        {
         "alignmentgroup": "True",
         "hovertemplate": "cuisine=Donuts<br>borough=%{x}<br>count=%{y}<extra></extra>",
         "legendgroup": "Donuts",
         "marker": {
          "color": "#00cc96",
          "pattern": {
           "shape": ""
          }
         },
         "name": "Donuts",
         "offsetgroup": "Donuts",
         "orientation": "v",
         "showlegend": true,
         "textposition": "auto",
         "type": "bar",
         "x": [
          "Queens",
          "Brooklyn",
          "Manhattan",
          "Bronx",
          "Staten Island"
         ],
         "xaxis": "x",
         "y": [
          135,
          109,
          136,
          68,
          31
         ],
         "yaxis": "y"
        },
        {
         "alignmentgroup": "True",
         "hovertemplate": "cuisine=Egyptian<br>borough=%{x}<br>count=%{y}<extra></extra>",
         "legendgroup": "Egyptian",
         "marker": {
          "color": "#ab63fa",
          "pattern": {
           "shape": ""
          }
         },
         "name": "Egyptian",
         "offsetgroup": "Egyptian",
         "orientation": "v",
         "showlegend": true,
         "textposition": "auto",
         "type": "bar",
         "x": [
          "Queens",
          "Brooklyn",
          "Manhattan"
         ],
         "xaxis": "x",
         "y": [
          6,
          3,
          5
         ],
         "yaxis": "y"
        },
        {
         "alignmentgroup": "True",
         "hovertemplate": "cuisine=African<br>borough=%{x}<br>count=%{y}<extra></extra>",
         "legendgroup": "African",
         "marker": {
          "color": "#FFA15A",
          "pattern": {
           "shape": ""
          }
         },
         "name": "African",
         "offsetgroup": "African",
         "orientation": "v",
         "showlegend": true,
         "textposition": "auto",
         "type": "bar",
         "x": [
          "Queens",
          "Bronx",
          "Brooklyn",
          "Manhattan",
          "Staten Island"
         ],
         "xaxis": "x",
         "y": [
          5,
          31,
          13,
          17,
          2
         ],
         "yaxis": "y"
        },
        {
         "alignmentgroup": "True",
         "hovertemplate": "cuisine=Chinese/Cuban<br>borough=%{x}<br>count=%{y}<extra></extra>",
         "legendgroup": "Chinese/Cuban",
         "marker": {
          "color": "#19d3f3",
          "pattern": {
           "shape": ""
          }
         },
         "name": "Chinese/Cuban",
         "offsetgroup": "Chinese/Cuban",
         "orientation": "v",
         "showlegend": true,
         "textposition": "auto",
         "type": "bar",
         "x": [
          "Manhattan",
          "Queens",
          "Bronx",
          "Brooklyn"
         ],
         "xaxis": "x",
         "y": [
          4,
          3,
          4,
          5
         ],
         "yaxis": "y"
        },
        {
         "alignmentgroup": "True",
         "hovertemplate": "cuisine=German<br>borough=%{x}<br>count=%{y}<extra></extra>",
         "legendgroup": "German",
         "marker": {
          "color": "#FF6692",
          "pattern": {
           "shape": ""
          }
         },
         "name": "German",
         "offsetgroup": "German",
         "orientation": "v",
         "showlegend": true,
         "textposition": "auto",
         "type": "bar",
         "x": [
          "Staten Island",
          "Manhattan",
          "Missing",
          "Brooklyn",
          "Queens"
         ],
         "xaxis": "x",
         "y": [
          3,
          15,
          1,
          6,
          6
         ],
         "yaxis": "y"
        },
        {
         "alignmentgroup": "True",
         "hovertemplate": "cuisine=Bagels/Pretzels<br>borough=%{x}<br>count=%{y}<extra></extra>",
         "legendgroup": "Bagels/Pretzels",
         "marker": {
          "color": "#B6E880",
          "pattern": {
           "shape": ""
          }
         },
         "name": "Bagels/Pretzels",
         "offsetgroup": "Bagels/Pretzels",
         "orientation": "v",
         "showlegend": true,
         "textposition": "auto",
         "type": "bar",
         "x": [
          "Staten Island",
          "Manhattan",
          "Queens",
          "Brooklyn",
          "Bronx"
         ],
         "xaxis": "x",
         "y": [
          14,
          58,
          44,
          49,
          3
         ],
         "yaxis": "y"
        },
        {
         "alignmentgroup": "True",
         "hovertemplate": "cuisine=Hotdogs/Pretzels<br>borough=%{x}<br>count=%{y}<extra></extra>",
         "legendgroup": "Hotdogs/Pretzels",
         "marker": {
          "color": "#FF97FF",
          "pattern": {
           "shape": ""
          }
         },
         "name": "Hotdogs/Pretzels",
         "offsetgroup": "Hotdogs/Pretzels",
         "orientation": "v",
         "showlegend": true,
         "textposition": "auto",
         "type": "bar",
         "x": [
          "Manhattan",
          "Staten Island",
          "Brooklyn",
          "Queens"
         ],
         "xaxis": "x",
         "y": [
          11,
          2,
          1,
          2
         ],
         "yaxis": "y"
        },
        {
         "alignmentgroup": "True",
         "hovertemplate": "cuisine=Thai<br>borough=%{x}<br>count=%{y}<extra></extra>",
         "legendgroup": "Thai",
         "marker": {
          "color": "#FECB52",
          "pattern": {
           "shape": ""
          }
         },
         "name": "Thai",
         "offsetgroup": "Thai",
         "orientation": "v",
         "showlegend": true,
         "textposition": "auto",
         "type": "bar",
         "x": [
          "Staten Island",
          "Manhattan",
          "Bronx",
          "Brooklyn",
          "Queens"
         ],
         "xaxis": "x",
         "y": [
          1,
          154,
          2,
          66,
          62
         ],
         "yaxis": "y"
        },
        {
         "alignmentgroup": "True",
         "hovertemplate": "cuisine=Fruits/Vegetables<br>borough=%{x}<br>count=%{y}<extra></extra>",
         "legendgroup": "Fruits/Vegetables",
         "marker": {
          "color": "#636efa",
          "pattern": {
           "shape": ""
          }
         },
         "name": "Fruits/Vegetables",
         "offsetgroup": "Fruits/Vegetables",
         "orientation": "v",
         "showlegend": true,
         "textposition": "auto",
         "type": "bar",
         "x": [
          "Staten Island",
          "Manhattan",
          "Bronx",
          "Queens",
          "Brooklyn"
         ],
         "xaxis": "x",
         "y": [
          1,
          1,
          1,
          2,
          2
         ],
         "yaxis": "y"
        },
        {
         "alignmentgroup": "True",
         "hovertemplate": "cuisine=Soups & Sandwiches<br>borough=%{x}<br>count=%{y}<extra></extra>",
         "legendgroup": "Soups & Sandwiches",
         "marker": {
          "color": "#EF553B",
          "pattern": {
           "shape": ""
          }
         },
         "name": "Soups & Sandwiches",
         "offsetgroup": "Soups & Sandwiches",
         "orientation": "v",
         "showlegend": true,
         "textposition": "auto",
         "type": "bar",
         "x": [
          "Bronx",
          "Manhattan",
          "Brooklyn",
          "Queens"
         ],
         "xaxis": "x",
         "y": [
          1,
          44,
          5,
          1
         ],
         "yaxis": "y"
        },
        {
         "alignmentgroup": "True",
         "hovertemplate": "cuisine=Juice, Smoothies, Fruit Salads<br>borough=%{x}<br>count=%{y}<extra></extra>",
         "legendgroup": "Juice, Smoothies, Fruit Salads",
         "marker": {
          "color": "#00cc96",
          "pattern": {
           "shape": ""
          }
         },
         "name": "Juice, Smoothies, Fruit Salads",
         "offsetgroup": "Juice, Smoothies, Fruit Salads",
         "orientation": "v",
         "showlegend": true,
         "textposition": "auto",
         "type": "bar",
         "x": [
          "Staten Island",
          "Queens",
          "Brooklyn",
          "Bronx",
          "Missing",
          "Manhattan"
         ],
         "xaxis": "x",
         "y": [
          4,
          46,
          62,
          35,
          1,
          125
         ],
         "yaxis": "y"
        },
        {
         "alignmentgroup": "True",
         "hovertemplate": "cuisine=Italian<br>borough=%{x}<br>count=%{y}<extra></extra>",
         "legendgroup": "Italian",
         "marker": {
          "color": "#ab63fa",
          "pattern": {
           "shape": ""
          }
         },
         "name": "Italian",
         "offsetgroup": "Italian",
         "orientation": "v",
         "showlegend": true,
         "textposition": "auto",
         "type": "bar",
         "x": [
          "Staten Island",
          "Manhattan",
          "Bronx",
          "Queens",
          "Brooklyn"
         ],
         "xaxis": "x",
         "y": [
          73,
          621,
          52,
          131,
          192
         ],
         "yaxis": "y"
        },
        {
         "alignmentgroup": "True",
         "hovertemplate": "cuisine=Chinese/Japanese<br>borough=%{x}<br>count=%{y}<extra></extra>",
         "legendgroup": "Chinese/Japanese",
         "marker": {
          "color": "#FFA15A",
          "pattern": {
           "shape": ""
          }
         },
         "name": "Chinese/Japanese",
         "offsetgroup": "Chinese/Japanese",
         "orientation": "v",
         "showlegend": true,
         "textposition": "auto",
         "type": "bar",
         "x": [
          "Manhattan",
          "Staten Island",
          "Brooklyn",
          "Queens",
          "Bronx"
         ],
         "xaxis": "x",
         "y": [
          27,
          3,
          13,
          15,
          1
         ],
         "yaxis": "y"
        },
        {
         "alignmentgroup": "True",
         "hovertemplate": "cuisine=Spanish<br>borough=%{x}<br>count=%{y}<extra></extra>",
         "legendgroup": "Spanish",
         "marker": {
          "color": "#19d3f3",
          "pattern": {
           "shape": ""
          }
         },
         "name": "Spanish",
         "offsetgroup": "Spanish",
         "orientation": "v",
         "showlegend": true,
         "textposition": "auto",
         "type": "bar",
         "x": [
          "Manhattan",
          "Missing",
          "Staten Island",
          "Brooklyn",
          "Queens",
          "Bronx"
         ],
         "xaxis": "x",
         "y": [
          133,
          1,
          19,
          138,
          219,
          127
         ],
         "yaxis": "y"
        },
        {
         "alignmentgroup": "True",
         "hovertemplate": "cuisine=Chicken<br>borough=%{x}<br>count=%{y}<extra></extra>",
         "legendgroup": "Chicken",
         "marker": {
          "color": "#FF6692",
          "pattern": {
           "shape": ""
          }
         },
         "name": "Chicken",
         "offsetgroup": "Chicken",
         "orientation": "v",
         "showlegend": true,
         "textposition": "auto",
         "type": "bar",
         "x": [
          "Bronx",
          "Brooklyn",
          "Queens",
          "Missing",
          "Manhattan",
          "Staten Island"
         ],
         "xaxis": "x",
         "y": [
          108,
          120,
          82,
          9,
          81,
          10
         ],
         "yaxis": "y"
        },
        {
         "alignmentgroup": "True",
         "hovertemplate": "cuisine=Seafood<br>borough=%{x}<br>count=%{y}<extra></extra>",
         "legendgroup": "Seafood",
         "marker": {
          "color": "#B6E880",
          "pattern": {
           "shape": ""
          }
         },
         "name": "Seafood",
         "offsetgroup": "Seafood",
         "orientation": "v",
         "showlegend": true,
         "textposition": "auto",
         "type": "bar",
         "x": [
          "Staten Island",
          "Manhattan",
          "Missing",
          "Bronx",
          "Queens",
          "Brooklyn"
         ],
         "xaxis": "x",
         "y": [
          3,
          69,
          1,
          26,
          19,
          29
         ],
         "yaxis": "y"
        },
        {
         "alignmentgroup": "True",
         "hovertemplate": "cuisine=Indonesian<br>borough=%{x}<br>count=%{y}<extra></extra>",
         "legendgroup": "Indonesian",
         "marker": {
          "color": "#FF97FF",
          "pattern": {
           "shape": ""
          }
         },
         "name": "Indonesian",
         "offsetgroup": "Indonesian",
         "orientation": "v",
         "showlegend": true,
         "textposition": "auto",
         "type": "bar",
         "x": [
          "Manhattan",
          "Brooklyn",
          "Queens"
         ],
         "xaxis": "x",
         "y": [
          2,
          2,
          4
         ],
         "yaxis": "y"
        },
        {
         "alignmentgroup": "True",
         "hovertemplate": "cuisine=Peruvian<br>borough=%{x}<br>count=%{y}<extra></extra>",
         "legendgroup": "Peruvian",
         "marker": {
          "color": "#FECB52",
          "pattern": {
           "shape": ""
          }
         },
         "name": "Peruvian",
         "offsetgroup": "Peruvian",
         "orientation": "v",
         "showlegend": true,
         "textposition": "auto",
         "type": "bar",
         "x": [
          "Manhattan",
          "Missing",
          "Bronx",
          "Staten Island",
          "Brooklyn",
          "Queens"
         ],
         "xaxis": "x",
         "y": [
          13,
          1,
          2,
          3,
          9,
          40
         ],
         "yaxis": "y"
        },
        {
         "alignmentgroup": "True",
         "hovertemplate": "cuisine=Not Listed/Not Applicable<br>borough=%{x}<br>count=%{y}<extra></extra>",
         "legendgroup": "Not Listed/Not Applicable",
         "marker": {
          "color": "#636efa",
          "pattern": {
           "shape": ""
          }
         },
         "name": "Not Listed/Not Applicable",
         "offsetgroup": "Not Listed/Not Applicable",
         "orientation": "v",
         "showlegend": true,
         "textposition": "auto",
         "type": "bar",
         "x": [
          "Bronx",
          "Manhattan",
          "Queens",
          "Brooklyn",
          "Staten Island"
         ],
         "xaxis": "x",
         "y": [
          2,
          5,
          5,
          6,
          1
         ],
         "yaxis": "y"
        },
        {
         "alignmentgroup": "True",
         "hovertemplate": "cuisine=Ice Cream, Gelato, Yogurt, Ices<br>borough=%{x}<br>count=%{y}<extra></extra>",
         "legendgroup": "Ice Cream, Gelato, Yogurt, Ices",
         "marker": {
          "color": "#EF553B",
          "pattern": {
           "shape": ""
          }
         },
         "name": "Ice Cream, Gelato, Yogurt, Ices",
         "offsetgroup": "Ice Cream, Gelato, Yogurt, Ices",
         "orientation": "v",
         "showlegend": true,
         "textposition": "auto",
         "type": "bar",
         "x": [
          "Queens",
          "Brooklyn",
          "Bronx",
          "Staten Island",
          "Manhattan"
         ],
         "xaxis": "x",
         "y": [
          81,
          82,
          27,
          40,
          118
         ],
         "yaxis": "y"
        },
        {
         "alignmentgroup": "True",
         "hovertemplate": "cuisine=Indian<br>borough=%{x}<br>count=%{y}<extra></extra>",
         "legendgroup": "Indian",
         "marker": {
          "color": "#00cc96",
          "pattern": {
           "shape": ""
          }
         },
         "name": "Indian",
         "offsetgroup": "Indian",
         "orientation": "v",
         "showlegend": true,
         "textposition": "auto",
         "type": "bar",
         "x": [
          "Bronx",
          "Queens",
          "Brooklyn",
          "Staten Island",
          "Manhattan"
         ],
         "xaxis": "x",
         "y": [
          6,
          99,
          53,
          6,
          152
         ],
         "yaxis": "y"
        },
        {
         "alignmentgroup": "True",
         "hovertemplate": "cuisine=Chinese<br>borough=%{x}<br>count=%{y}<extra></extra>",
         "legendgroup": "Chinese",
         "marker": {
          "color": "#ab63fa",
          "pattern": {
           "shape": ""
          }
         },
         "name": "Chinese",
         "offsetgroup": "Chinese",
         "orientation": "v",
         "showlegend": true,
         "textposition": "auto",
         "type": "bar",
         "x": [
          "Manhattan",
          "Missing",
          "Queens",
          "Brooklyn",
          "Bronx",
          "Staten Island"
         ],
         "xaxis": "x",
         "y": [
          510,
          6,
          728,
          763,
          323,
          88
         ],
         "yaxis": "y"
        },
        {
         "alignmentgroup": "True",
         "hovertemplate": "cuisine=Pizza<br>borough=%{x}<br>count=%{y}<extra></extra>",
         "legendgroup": "Pizza",
         "marker": {
          "color": "#FFA15A",
          "pattern": {
           "shape": ""
          }
         },
         "name": "Pizza",
         "offsetgroup": "Pizza",
         "orientation": "v",
         "showlegend": true,
         "textposition": "auto",
         "type": "bar",
         "x": [
          "Manhattan",
          "Queens",
          "Brooklyn",
          "Bronx",
          "Missing",
          "Staten Island"
         ],
         "xaxis": "x",
         "y": [
          339,
          277,
          296,
          197,
          1,
          53
         ],
         "yaxis": "y"
        },
        {
         "alignmentgroup": "True",
         "hovertemplate": "cuisine=Jewish/Kosher<br>borough=%{x}<br>count=%{y}<extra></extra>",
         "legendgroup": "Jewish/Kosher",
         "marker": {
          "color": "#19d3f3",
          "pattern": {
           "shape": ""
          }
         },
         "name": "Jewish/Kosher",
         "offsetgroup": "Jewish/Kosher",
         "orientation": "v",
         "showlegend": true,
         "textposition": "auto",
         "type": "bar",
         "x": [
          "Bronx",
          "Brooklyn",
          "Queens",
          "Staten Island",
          "Missing",
          "Manhattan"
         ],
         "xaxis": "x",
         "y": [
          8,
          167,
          62,
          5,
          1,
          73
         ],
         "yaxis": "y"
        },
        {
         "alignmentgroup": "True",
         "hovertemplate": "cuisine=Polish<br>borough=%{x}<br>count=%{y}<extra></extra>",
         "legendgroup": "Polish",
         "marker": {
          "color": "#FF6692",
          "pattern": {
           "shape": ""
          }
         },
         "name": "Polish",
         "offsetgroup": "Polish",
         "orientation": "v",
         "showlegend": true,
         "textposition": "auto",
         "type": "bar",
         "x": [
          "Brooklyn",
          "Queens",
          "Staten Island",
          "Manhattan"
         ],
         "xaxis": "x",
         "y": [
          18,
          4,
          1,
          2
         ],
         "yaxis": "y"
        },
        {
         "alignmentgroup": "True",
         "hovertemplate": "cuisine=Tex-Mex<br>borough=%{x}<br>count=%{y}<extra></extra>",
         "legendgroup": "Tex-Mex",
         "marker": {
          "color": "#B6E880",
          "pattern": {
           "shape": ""
          }
         },
         "name": "Tex-Mex",
         "offsetgroup": "Tex-Mex",
         "orientation": "v",
         "showlegend": true,
         "textposition": "auto",
         "type": "bar",
         "x": [
          "Manhattan",
          "Staten Island",
          "Queens",
          "Brooklyn",
          "Bronx"
         ],
         "xaxis": "x",
         "y": [
          53,
          5,
          28,
          46,
          11
         ],
         "yaxis": "y"
        },
        {
         "alignmentgroup": "True",
         "hovertemplate": "cuisine=Cajun<br>borough=%{x}<br>count=%{y}<extra></extra>",
         "legendgroup": "Cajun",
         "marker": {
          "color": "#FF97FF",
          "pattern": {
           "shape": ""
          }
         },
         "name": "Cajun",
         "offsetgroup": "Cajun",
         "orientation": "v",
         "showlegend": true,
         "textposition": "auto",
         "type": "bar",
         "x": [
          "Brooklyn",
          "Queens",
          "Staten Island"
         ],
         "xaxis": "x",
         "y": [
          2,
          3,
          2
         ],
         "yaxis": "y"
        },
        {
         "alignmentgroup": "True",
         "hovertemplate": "cuisine=Turkish<br>borough=%{x}<br>count=%{y}<extra></extra>",
         "legendgroup": "Turkish",
         "marker": {
          "color": "#FECB52",
          "pattern": {
           "shape": ""
          }
         },
         "name": "Turkish",
         "offsetgroup": "Turkish",
         "orientation": "v",
         "showlegend": true,
         "textposition": "auto",
         "type": "bar",
         "x": [
          "Brooklyn",
          "Staten Island",
          "Manhattan",
          "Queens"
         ],
         "xaxis": "x",
         "y": [
          26,
          1,
          35,
          8
         ],
         "yaxis": "y"
        },
        {
         "alignmentgroup": "True",
         "hovertemplate": "cuisine=Vegetarian<br>borough=%{x}<br>count=%{y}<extra></extra>",
         "legendgroup": "Vegetarian",
         "marker": {
          "color": "#636efa",
          "pattern": {
           "shape": ""
          }
         },
         "name": "Vegetarian",
         "offsetgroup": "Vegetarian",
         "orientation": "v",
         "showlegend": true,
         "textposition": "auto",
         "type": "bar",
         "x": [
          "Manhattan",
          "Brooklyn",
          "Queens"
         ],
         "xaxis": "x",
         "y": [
          59,
          31,
          12
         ],
         "yaxis": "y"
        },
        {
         "alignmentgroup": "True",
         "hovertemplate": "cuisine=Steak<br>borough=%{x}<br>count=%{y}<extra></extra>",
         "legendgroup": "Steak",
         "marker": {
          "color": "#EF553B",
          "pattern": {
           "shape": ""
          }
         },
         "name": "Steak",
         "offsetgroup": "Steak",
         "orientation": "v",
         "showlegend": true,
         "textposition": "auto",
         "type": "bar",
         "x": [
          "Queens",
          "Brooklyn",
          "Bronx",
          "Staten Island",
          "Manhattan"
         ],
         "xaxis": "x",
         "y": [
          13,
          7,
          4,
          1,
          61
         ],
         "yaxis": "y"
        },
        {
         "alignmentgroup": "True",
         "hovertemplate": "cuisine=Delicatessen<br>borough=%{x}<br>count=%{y}<extra></extra>",
         "legendgroup": "Delicatessen",
         "marker": {
          "color": "#00cc96",
          "pattern": {
           "shape": ""
          }
         },
         "name": "Delicatessen",
         "offsetgroup": "Delicatessen",
         "orientation": "v",
         "showlegend": true,
         "textposition": "auto",
         "type": "bar",
         "x": [
          "Missing",
          "Brooklyn",
          "Queens",
          "Staten Island",
          "Bronx",
          "Manhattan"
         ],
         "xaxis": "x",
         "y": [
          1,
          46,
          99,
          16,
          26,
          133
         ],
         "yaxis": "y"
        },
        {
         "alignmentgroup": "True",
         "hovertemplate": "cuisine=Hotdogs<br>borough=%{x}<br>count=%{y}<extra></extra>",
         "legendgroup": "Hotdogs",
         "marker": {
          "color": "#ab63fa",
          "pattern": {
           "shape": ""
          }
         },
         "name": "Hotdogs",
         "offsetgroup": "Hotdogs",
         "orientation": "v",
         "showlegend": true,
         "textposition": "auto",
         "type": "bar",
         "x": [
          "Staten Island",
          "Brooklyn",
          "Bronx",
          "Manhattan"
         ],
         "xaxis": "x",
         "y": [
          2,
          8,
          1,
          23
         ],
         "yaxis": "y"
        },
        {
         "alignmentgroup": "True",
         "hovertemplate": "cuisine=Salads<br>borough=%{x}<br>count=%{y}<extra></extra>",
         "legendgroup": "Salads",
         "marker": {
          "color": "#FFA15A",
          "pattern": {
           "shape": ""
          }
         },
         "name": "Salads",
         "offsetgroup": "Salads",
         "orientation": "v",
         "showlegend": true,
         "textposition": "auto",
         "type": "bar",
         "x": [
          "Manhattan",
          "Missing",
          "Queens",
          "Brooklyn",
          "Bronx"
         ],
         "xaxis": "x",
         "y": [
          34,
          1,
          3,
          6,
          1
         ],
         "yaxis": "y"
        },
        {
         "alignmentgroup": "True",
         "hovertemplate": "cuisine=Russian<br>borough=%{x}<br>count=%{y}<extra></extra>",
         "legendgroup": "Russian",
         "marker": {
          "color": "#19d3f3",
          "pattern": {
           "shape": ""
          }
         },
         "name": "Russian",
         "offsetgroup": "Russian",
         "orientation": "v",
         "showlegend": true,
         "textposition": "auto",
         "type": "bar",
         "x": [
          "Queens",
          "Brooklyn",
          "Staten Island",
          "Manhattan"
         ],
         "xaxis": "x",
         "y": [
          5,
          65,
          4,
          14
         ],
         "yaxis": "y"
        },
        {
         "alignmentgroup": "True",
         "hovertemplate": "cuisine=Soul Food<br>borough=%{x}<br>count=%{y}<extra></extra>",
         "legendgroup": "Soul Food",
         "marker": {
          "color": "#FF6692",
          "pattern": {
           "shape": ""
          }
         },
         "name": "Soul Food",
         "offsetgroup": "Soul Food",
         "orientation": "v",
         "showlegend": true,
         "textposition": "auto",
         "type": "bar",
         "x": [
          "Bronx",
          "Brooklyn",
          "Queens",
          "Manhattan"
         ],
         "xaxis": "x",
         "y": [
          7,
          21,
          1,
          15
         ],
         "yaxis": "y"
        },
        {
         "alignmentgroup": "True",
         "hovertemplate": "cuisine=Caribbean<br>borough=%{x}<br>count=%{y}<extra></extra>",
         "legendgroup": "Caribbean",
         "marker": {
          "color": "#B6E880",
          "pattern": {
           "shape": ""
          }
         },
         "name": "Caribbean",
         "offsetgroup": "Caribbean",
         "orientation": "v",
         "showlegend": true,
         "textposition": "auto",
         "type": "bar",
         "x": [
          "Staten Island",
          "Missing",
          "Bronx",
          "Manhattan",
          "Queens",
          "Brooklyn"
         ],
         "xaxis": "x",
         "y": [
          3,
          1,
          110,
          36,
          193,
          314
         ],
         "yaxis": "y"
        },
        {
         "alignmentgroup": "True",
         "hovertemplate": "cuisine=Middle Eastern<br>borough=%{x}<br>count=%{y}<extra></extra>",
         "legendgroup": "Middle Eastern",
         "marker": {
          "color": "#FF97FF",
          "pattern": {
           "shape": ""
          }
         },
         "name": "Middle Eastern",
         "offsetgroup": "Middle Eastern",
         "orientation": "v",
         "showlegend": true,
         "textposition": "auto",
         "type": "bar",
         "x": [
          "Bronx",
          "Queens",
          "Brooklyn",
          "Manhattan",
          "Staten Island"
         ],
         "xaxis": "x",
         "y": [
          3,
          33,
          71,
          54,
          7
         ],
         "yaxis": "y"
        },
        {
         "alignmentgroup": "True",
         "hovertemplate": "cuisine=Filipino<br>borough=%{x}<br>count=%{y}<extra></extra>",
         "legendgroup": "Filipino",
         "marker": {
          "color": "#FECB52",
          "pattern": {
           "shape": ""
          }
         },
         "name": "Filipino",
         "offsetgroup": "Filipino",
         "orientation": "v",
         "showlegend": true,
         "textposition": "auto",
         "type": "bar",
         "x": [
          "Manhattan",
          "Staten Island",
          "Brooklyn",
          "Queens"
         ],
         "xaxis": "x",
         "y": [
          5,
          2,
          1,
          18
         ],
         "yaxis": "y"
        },
        {
         "alignmentgroup": "True",
         "hovertemplate": "cuisine=Other<br>borough=%{x}<br>count=%{y}<extra></extra>",
         "legendgroup": "Other",
         "marker": {
          "color": "#636efa",
          "pattern": {
           "shape": ""
          }
         },
         "name": "Other",
         "offsetgroup": "Other",
         "orientation": "v",
         "showlegend": true,
         "textposition": "auto",
         "type": "bar",
         "x": [
          "Manhattan",
          "Brooklyn",
          "Staten Island",
          "Bronx",
          "Queens",
          "Missing"
         ],
         "xaxis": "x",
         "y": [
          371,
          272,
          42,
          86,
          236,
          4
         ],
         "yaxis": "y"
        },
        {
         "alignmentgroup": "True",
         "hovertemplate": "cuisine=Southwestern<br>borough=%{x}<br>count=%{y}<extra></extra>",
         "legendgroup": "Southwestern",
         "marker": {
          "color": "#EF553B",
          "pattern": {
           "shape": ""
          }
         },
         "name": "Southwestern",
         "offsetgroup": "Southwestern",
         "orientation": "v",
         "showlegend": true,
         "textposition": "auto",
         "type": "bar",
         "x": [
          "Queens",
          "Brooklyn",
          "Staten Island",
          "Manhattan"
         ],
         "xaxis": "x",
         "y": [
          1,
          1,
          3,
          4
         ],
         "yaxis": "y"
        },
        {
         "alignmentgroup": "True",
         "hovertemplate": "cuisine=Asian<br>borough=%{x}<br>count=%{y}<extra></extra>",
         "legendgroup": "Asian",
         "marker": {
          "color": "#00cc96",
          "pattern": {
           "shape": ""
          }
         },
         "name": "Asian",
         "offsetgroup": "Asian",
         "orientation": "v",
         "showlegend": true,
         "textposition": "auto",
         "type": "bar",
         "x": [
          "Staten Island",
          "Missing",
          "Bronx",
          "Brooklyn",
          "Manhattan",
          "Queens"
         ],
         "xaxis": "x",
         "y": [
          12,
          1,
          4,
          54,
          134,
          104
         ],
         "yaxis": "y"
        },
        {
         "alignmentgroup": "True",
         "hovertemplate": "cuisine=Brazilian<br>borough=%{x}<br>count=%{y}<extra></extra>",
         "legendgroup": "Brazilian",
         "marker": {
          "color": "#ab63fa",
          "pattern": {
           "shape": ""
          }
         },
         "name": "Brazilian",
         "offsetgroup": "Brazilian",
         "orientation": "v",
         "showlegend": true,
         "textposition": "auto",
         "type": "bar",
         "x": [
          "Queens",
          "Brooklyn",
          "Manhattan"
         ],
         "xaxis": "x",
         "y": [
          8,
          3,
          15
         ],
         "yaxis": "y"
        },
        {
         "alignmentgroup": "True",
         "hovertemplate": "cuisine=Armenian<br>borough=%{x}<br>count=%{y}<extra></extra>",
         "legendgroup": "Armenian",
         "marker": {
          "color": "#FFA15A",
          "pattern": {
           "shape": ""
          }
         },
         "name": "Armenian",
         "offsetgroup": "Armenian",
         "orientation": "v",
         "showlegend": true,
         "textposition": "auto",
         "type": "bar",
         "x": [
          "Staten Island",
          "Manhattan",
          "Bronx",
          "Brooklyn",
          "Queens"
         ],
         "xaxis": "x",
         "y": [
          2,
          19,
          2,
          9,
          8
         ],
         "yaxis": "y"
        },
        {
         "alignmentgroup": "True",
         "hovertemplate": "cuisine=Pizza/Italian<br>borough=%{x}<br>count=%{y}<extra></extra>",
         "legendgroup": "Pizza/Italian",
         "marker": {
          "color": "#19d3f3",
          "pattern": {
           "shape": ""
          }
         },
         "name": "Pizza/Italian",
         "offsetgroup": "Pizza/Italian",
         "orientation": "v",
         "showlegend": true,
         "textposition": "auto",
         "type": "bar",
         "x": [
          "Brooklyn",
          "Queens",
          "Bronx",
          "Manhattan",
          "Staten Island"
         ],
         "xaxis": "x",
         "y": [
          136,
          102,
          53,
          119,
          58
         ],
         "yaxis": "y"
        },
        {
         "alignmentgroup": "True",
         "hovertemplate": "cuisine=Mediterranean<br>borough=%{x}<br>count=%{y}<extra></extra>",
         "legendgroup": "Mediterranean",
         "marker": {
          "color": "#FF6692",
          "pattern": {
           "shape": ""
          }
         },
         "name": "Mediterranean",
         "offsetgroup": "Mediterranean",
         "orientation": "v",
         "showlegend": true,
         "textposition": "auto",
         "type": "bar",
         "x": [
          "Manhattan",
          "Staten Island",
          "Bronx",
          "Brooklyn",
          "Queens"
         ],
         "xaxis": "x",
         "y": [
          130,
          9,
          3,
          48,
          29
         ],
         "yaxis": "y"
        },
        {
         "alignmentgroup": "True",
         "hovertemplate": "cuisine=Continental<br>borough=%{x}<br>count=%{y}<extra></extra>",
         "legendgroup": "Continental",
         "marker": {
          "color": "#B6E880",
          "pattern": {
           "shape": ""
          }
         },
         "name": "Continental",
         "offsetgroup": "Continental",
         "orientation": "v",
         "showlegend": true,
         "textposition": "auto",
         "type": "bar",
         "x": [
          "Staten Island",
          "Brooklyn",
          "Queens",
          "Bronx",
          "Manhattan"
         ],
         "xaxis": "x",
         "y": [
          1,
          6,
          18,
          1,
          32
         ],
         "yaxis": "y"
        },
        {
         "alignmentgroup": "True",
         "hovertemplate": "cuisine=Latin (Cuban, Dominican, Puerto Rican, South & Central American)<br>borough=%{x}<br>count=%{y}<extra></extra>",
         "legendgroup": "Latin (Cuban, Dominican, Puerto Rican, South & Central American)",
         "marker": {
          "color": "#FF97FF",
          "pattern": {
           "shape": ""
          }
         },
         "name": "Latin (Cuban, Dominican, Puerto Rican, South & Central American)",
         "offsetgroup": "Latin (Cuban, Dominican, Puerto Rican, South & Central American)",
         "orientation": "v",
         "showlegend": true,
         "textposition": "auto",
         "type": "bar",
         "x": [
          "Staten Island",
          "Manhattan",
          "Bronx",
          "Queens",
          "Brooklyn"
         ],
         "xaxis": "x",
         "y": [
          16,
          195,
          187,
          300,
          152
         ],
         "yaxis": "y"
        },
        {
         "alignmentgroup": "True",
         "hovertemplate": "cuisine=Bottled beverages, including water, sodas, juices, etc.<br>borough=%{x}<br>count=%{y}<extra></extra>",
         "legendgroup": "Bottled beverages, including water, sodas, juices, etc.",
         "marker": {
          "color": "#FECB52",
          "pattern": {
           "shape": ""
          }
         },
         "name": "Bottled beverages, including water, sodas, juices, etc.",
         "offsetgroup": "Bottled beverages, including water, sodas, juices, etc.",
         "orientation": "v",
         "showlegend": true,
         "textposition": "auto",
         "type": "bar",
         "x": [
          "Staten Island",
          "Manhattan",
          "Bronx",
          "Queens",
          "Brooklyn"
         ],
         "xaxis": "x",
         "y": [
          5,
          26,
          3,
          25,
          13
         ],
         "yaxis": "y"
        },
        {
         "alignmentgroup": "True",
         "hovertemplate": "cuisine=Japanese<br>borough=%{x}<br>count=%{y}<extra></extra>",
         "legendgroup": "Japanese",
         "marker": {
          "color": "#636efa",
          "pattern": {
           "shape": ""
          }
         },
         "name": "Japanese",
         "offsetgroup": "Japanese",
         "orientation": "v",
         "showlegend": true,
         "textposition": "auto",
         "type": "bar",
         "x": [
          "Manhattan",
          "Staten Island",
          "Brooklyn",
          "Queens",
          "Bronx",
          "Missing"
         ],
         "xaxis": "x",
         "y": [
          438,
          33,
          153,
          117,
          17,
          2
         ],
         "yaxis": "y"
        },
        {
         "alignmentgroup": "True",
         "hovertemplate": "cuisine=Creole/Cajun<br>borough=%{x}<br>count=%{y}<extra></extra>",
         "legendgroup": "Creole/Cajun",
         "marker": {
          "color": "#EF553B",
          "pattern": {
           "shape": ""
          }
         },
         "name": "Creole/Cajun",
         "offsetgroup": "Creole/Cajun",
         "orientation": "v",
         "showlegend": true,
         "textposition": "auto",
         "type": "bar",
         "x": [
          "Brooklyn"
         ],
         "xaxis": "x",
         "y": [
          1
         ],
         "yaxis": "y"
        },
        {
         "alignmentgroup": "True",
         "hovertemplate": "cuisine=Mexican<br>borough=%{x}<br>count=%{y}<extra></extra>",
         "legendgroup": "Mexican",
         "marker": {
          "color": "#00cc96",
          "pattern": {
           "shape": ""
          }
         },
         "name": "Mexican",
         "offsetgroup": "Mexican",
         "orientation": "v",
         "showlegend": true,
         "textposition": "auto",
         "type": "bar",
         "x": [
          "Brooklyn",
          "Staten Island",
          "Manhattan",
          "Bronx",
          "Missing",
          "Queens"
         ],
         "xaxis": "x",
         "y": [
          212,
          33,
          273,
          89,
          1,
          146
         ],
         "yaxis": "y"
        },
        {
         "alignmentgroup": "True",
         "hovertemplate": "cuisine=Sandwiches<br>borough=%{x}<br>count=%{y}<extra></extra>",
         "legendgroup": "Sandwiches",
         "marker": {
          "color": "#ab63fa",
          "pattern": {
           "shape": ""
          }
         },
         "name": "Sandwiches",
         "offsetgroup": "Sandwiches",
         "orientation": "v",
         "showlegend": true,
         "textposition": "auto",
         "type": "bar",
         "x": [
          "Bronx",
          "Manhattan",
          "Missing",
          "Staten Island",
          "Brooklyn",
          "Queens"
         ],
         "xaxis": "x",
         "y": [
          49,
          211,
          1,
          23,
          71,
          104
         ],
         "yaxis": "y"
        },
        {
         "alignmentgroup": "True",
         "hovertemplate": "cuisine=Californian<br>borough=%{x}<br>count=%{y}<extra></extra>",
         "legendgroup": "Californian",
         "marker": {
          "color": "#FFA15A",
          "pattern": {
           "shape": ""
          }
         },
         "name": "Californian",
         "offsetgroup": "Californian",
         "orientation": "v",
         "showlegend": true,
         "textposition": "auto",
         "type": "bar",
         "x": [
          "Manhattan"
         ],
         "xaxis": "x",
         "y": [
          1
         ],
         "yaxis": "y"
        },
        {
         "alignmentgroup": "True",
         "hovertemplate": "cuisine=Bangladeshi<br>borough=%{x}<br>count=%{y}<extra></extra>",
         "legendgroup": "Bangladeshi",
         "marker": {
          "color": "#19d3f3",
          "pattern": {
           "shape": ""
          }
         },
         "name": "Bangladeshi",
         "offsetgroup": "Bangladeshi",
         "orientation": "v",
         "showlegend": true,
         "textposition": "auto",
         "type": "bar",
         "x": [
          "Brooklyn",
          "Queens",
          "Bronx",
          "Manhattan"
         ],
         "xaxis": "x",
         "y": [
          5,
          19,
          5,
          7
         ],
         "yaxis": "y"
        },
        {
         "alignmentgroup": "True",
         "hovertemplate": "cuisine=Sandwiches/Salads/Mixed Buffet<br>borough=%{x}<br>count=%{y}<extra></extra>",
         "legendgroup": "Sandwiches/Salads/Mixed Buffet",
         "marker": {
          "color": "#FF6692",
          "pattern": {
           "shape": ""
          }
         },
         "name": "Sandwiches/Salads/Mixed Buffet",
         "offsetgroup": "Sandwiches/Salads/Mixed Buffet",
         "orientation": "v",
         "showlegend": true,
         "textposition": "auto",
         "type": "bar",
         "x": [
          "Brooklyn",
          "Missing",
          "Bronx",
          "Queens",
          "Manhattan",
          "Staten Island"
         ],
         "xaxis": "x",
         "y": [
          39,
          1,
          17,
          49,
          142,
          7
         ],
         "yaxis": "y"
        },
        {
         "alignmentgroup": "True",
         "hovertemplate": "cuisine=Moroccan<br>borough=%{x}<br>count=%{y}<extra></extra>",
         "legendgroup": "Moroccan",
         "marker": {
          "color": "#B6E880",
          "pattern": {
           "shape": ""
          }
         },
         "name": "Moroccan",
         "offsetgroup": "Moroccan",
         "orientation": "v",
         "showlegend": true,
         "textposition": "auto",
         "type": "bar",
         "x": [
          "Manhattan",
          "Queens",
          "Brooklyn"
         ],
         "xaxis": "x",
         "y": [
          8,
          5,
          2
         ],
         "yaxis": "y"
        },
        {
         "alignmentgroup": "True",
         "hovertemplate": "cuisine=Soups<br>borough=%{x}<br>count=%{y}<extra></extra>",
         "legendgroup": "Soups",
         "marker": {
          "color": "#FF97FF",
          "pattern": {
           "shape": ""
          }
         },
         "name": "Soups",
         "offsetgroup": "Soups",
         "orientation": "v",
         "showlegend": true,
         "textposition": "auto",
         "type": "bar",
         "x": [
          "Manhattan",
          "Staten Island"
         ],
         "xaxis": "x",
         "y": [
          3,
          1
         ],
         "yaxis": "y"
        },
        {
         "alignmentgroup": "True",
         "hovertemplate": "cuisine=Scandinavian<br>borough=%{x}<br>count=%{y}<extra></extra>",
         "legendgroup": "Scandinavian",
         "marker": {
          "color": "#FECB52",
          "pattern": {
           "shape": ""
          }
         },
         "name": "Scandinavian",
         "offsetgroup": "Scandinavian",
         "orientation": "v",
         "showlegend": true,
         "textposition": "auto",
         "type": "bar",
         "x": [
          "Brooklyn",
          "Manhattan"
         ],
         "xaxis": "x",
         "y": [
          1,
          6
         ],
         "yaxis": "y"
        },
        {
         "alignmentgroup": "True",
         "hovertemplate": "cuisine=Hamburgers<br>borough=%{x}<br>count=%{y}<extra></extra>",
         "legendgroup": "Hamburgers",
         "marker": {
          "color": "#636efa",
          "pattern": {
           "shape": ""
          }
         },
         "name": "Hamburgers",
         "offsetgroup": "Hamburgers",
         "orientation": "v",
         "showlegend": true,
         "textposition": "auto",
         "type": "bar",
         "x": [
          "Manhattan",
          "Bronx",
          "Staten Island",
          "Queens",
          "Brooklyn"
         ],
         "xaxis": "x",
         "y": [
          124,
          78,
          25,
          104,
          102
         ],
         "yaxis": "y"
        },
        {
         "alignmentgroup": "True",
         "hovertemplate": "cuisine=French<br>borough=%{x}<br>count=%{y}<extra></extra>",
         "legendgroup": "French",
         "marker": {
          "color": "#EF553B",
          "pattern": {
           "shape": ""
          }
         },
         "name": "French",
         "offsetgroup": "French",
         "orientation": "v",
         "showlegend": true,
         "textposition": "auto",
         "type": "bar",
         "x": [
          "Bronx",
          "Queens",
          "Manhattan",
          "Staten Island",
          "Brooklyn"
         ],
         "xaxis": "x",
         "y": [
          1,
          21,
          266,
          2,
          54
         ],
         "yaxis": "y"
        },
        {
         "alignmentgroup": "True",
         "hovertemplate": "cuisine=Czech<br>borough=%{x}<br>count=%{y}<extra></extra>",
         "legendgroup": "Czech",
         "marker": {
          "color": "#00cc96",
          "pattern": {
           "shape": ""
          }
         },
         "name": "Czech",
         "offsetgroup": "Czech",
         "orientation": "v",
         "showlegend": true,
         "textposition": "auto",
         "type": "bar",
         "x": [
          "Manhattan",
          "Brooklyn",
          "Queens"
         ],
         "xaxis": "x",
         "y": [
          1,
          2,
          3
         ],
         "yaxis": "y"
        },
        {
         "alignmentgroup": "True",
         "hovertemplate": "cuisine=Portuguese<br>borough=%{x}<br>count=%{y}<extra></extra>",
         "legendgroup": "Portuguese",
         "marker": {
          "color": "#ab63fa",
          "pattern": {
           "shape": ""
          }
         },
         "name": "Portuguese",
         "offsetgroup": "Portuguese",
         "orientation": "v",
         "showlegend": true,
         "textposition": "auto",
         "type": "bar",
         "x": [
          "Brooklyn",
          "Queens",
          "Manhattan",
          "Staten Island"
         ],
         "xaxis": "x",
         "y": [
          1,
          4,
          2,
          1
         ],
         "yaxis": "y"
        },
        {
         "alignmentgroup": "True",
         "hovertemplate": "cuisine=Bakery<br>borough=%{x}<br>count=%{y}<extra></extra>",
         "legendgroup": "Bakery",
         "marker": {
          "color": "#FFA15A",
          "pattern": {
           "shape": ""
          }
         },
         "name": "Bakery",
         "offsetgroup": "Bakery",
         "orientation": "v",
         "showlegend": true,
         "textposition": "auto",
         "type": "bar",
         "x": [
          "Manhattan",
          "Bronx",
          "Missing",
          "Staten Island",
          "Queens",
          "Brooklyn"
         ],
         "xaxis": "x",
         "y": [
          221,
          71,
          2,
          20,
          204,
          173
         ],
         "yaxis": "y"
        },
        {
         "alignmentgroup": "True",
         "hovertemplate": "cuisine=Tapas<br>borough=%{x}<br>count=%{y}<extra></extra>",
         "legendgroup": "Tapas",
         "marker": {
          "color": "#19d3f3",
          "pattern": {
           "shape": ""
          }
         },
         "name": "Tapas",
         "offsetgroup": "Tapas",
         "orientation": "v",
         "showlegend": true,
         "textposition": "auto",
         "type": "bar",
         "x": [
          "Queens",
          "Manhattan",
          "Brooklyn"
         ],
         "xaxis": "x",
         "y": [
          3,
          21,
          4
         ],
         "yaxis": "y"
        },
        {
         "alignmentgroup": "True",
         "hovertemplate": "cuisine=Barbecue<br>borough=%{x}<br>count=%{y}<extra></extra>",
         "legendgroup": "Barbecue",
         "marker": {
          "color": "#FF6692",
          "pattern": {
           "shape": ""
          }
         },
         "name": "Barbecue",
         "offsetgroup": "Barbecue",
         "orientation": "v",
         "showlegend": true,
         "textposition": "auto",
         "type": "bar",
         "x": [
          "Staten Island",
          "Brooklyn",
          "Queens",
          "Bronx",
          "Manhattan"
         ],
         "xaxis": "x",
         "y": [
          2,
          19,
          7,
          2,
          22
         ],
         "yaxis": "y"
        },
        {
         "alignmentgroup": "True",
         "hovertemplate": "cuisine=Korean<br>borough=%{x}<br>count=%{y}<extra></extra>",
         "legendgroup": "Korean",
         "marker": {
          "color": "#B6E880",
          "pattern": {
           "shape": ""
          }
         },
         "name": "Korean",
         "offsetgroup": "Korean",
         "orientation": "v",
         "showlegend": true,
         "textposition": "auto",
         "type": "bar",
         "x": [
          "Staten Island",
          "Queens",
          "Brooklyn",
          "Manhattan"
         ],
         "xaxis": "x",
         "y": [
          1,
          167,
          16,
          78
         ],
         "yaxis": "y"
        },
        {
         "alignmentgroup": "True",
         "hovertemplate": "cuisine=American<br>borough=%{x}<br>count=%{y}<extra></extra>",
         "legendgroup": "American",
         "marker": {
          "color": "#FF97FF",
          "pattern": {
           "shape": ""
          }
         },
         "name": "American",
         "offsetgroup": "American",
         "orientation": "v",
         "showlegend": true,
         "textposition": "auto",
         "type": "bar",
         "x": [
          "Brooklyn",
          "Queens",
          "Missing",
          "Staten Island",
          "Bronx",
          "Manhattan"
         ],
         "xaxis": "x",
         "y": [
          1273,
          1040,
          10,
          244,
          411,
          3205
         ],
         "yaxis": "y"
        },
        {
         "alignmentgroup": "True",
         "hovertemplate": "cuisine=Afghan<br>borough=%{x}<br>count=%{y}<extra></extra>",
         "legendgroup": "Afghan",
         "marker": {
          "color": "#FECB52",
          "pattern": {
           "shape": ""
          }
         },
         "name": "Afghan",
         "offsetgroup": "Afghan",
         "orientation": "v",
         "showlegend": true,
         "textposition": "auto",
         "type": "bar",
         "x": [
          "Queens",
          "Brooklyn",
          "Manhattan"
         ],
         "xaxis": "x",
         "y": [
          9,
          1,
          4
         ],
         "yaxis": "y"
        },
        {
         "alignmentgroup": "True",
         "hovertemplate": "cuisine=Eastern European<br>borough=%{x}<br>count=%{y}<extra></extra>",
         "legendgroup": "Eastern European",
         "marker": {
          "color": "#636efa",
          "pattern": {
           "shape": ""
          }
         },
         "name": "Eastern European",
         "offsetgroup": "Eastern European",
         "orientation": "v",
         "showlegend": true,
         "textposition": "auto",
         "type": "bar",
         "x": [
          "Bronx",
          "Manhattan",
          "Brooklyn",
          "Queens",
          "Staten Island"
         ],
         "xaxis": "x",
         "y": [
          4,
          16,
          27,
          16,
          2
         ],
         "yaxis": "y"
        },
        {
         "alignmentgroup": "True",
         "hovertemplate": "cuisine=Café/Coffee/Tea<br>borough=%{x}<br>count=%{y}<extra></extra>",
         "legendgroup": "Café/Coffee/Tea",
         "marker": {
          "color": "#EF553B",
          "pattern": {
           "shape": ""
          }
         },
         "name": "Café/Coffee/Tea",
         "offsetgroup": "Café/Coffee/Tea",
         "orientation": "v",
         "showlegend": true,
         "textposition": "auto",
         "type": "bar",
         "x": [
          "Manhattan",
          "Missing",
          "Bronx",
          "Staten Island",
          "Queens",
          "Brooklyn"
         ],
         "xaxis": "x",
         "y": [
          680,
          4,
          45,
          19,
          177,
          289
         ],
         "yaxis": "y"
        },
        {
         "alignmentgroup": "True",
         "hovertemplate": "cuisine=Hawaiian<br>borough=%{x}<br>count=%{y}<extra></extra>",
         "legendgroup": "Hawaiian",
         "marker": {
          "color": "#00cc96",
          "pattern": {
           "shape": ""
          }
         },
         "name": "Hawaiian",
         "offsetgroup": "Hawaiian",
         "orientation": "v",
         "showlegend": true,
         "textposition": "auto",
         "type": "bar",
         "x": [
          "Manhattan",
          "Brooklyn"
         ],
         "xaxis": "x",
         "y": [
          2,
          1
         ],
         "yaxis": "y"
        },
        {
         "alignmentgroup": "True",
         "hovertemplate": "cuisine=Vietnamese/Cambodian/Malaysia<br>borough=%{x}<br>count=%{y}<extra></extra>",
         "legendgroup": "Vietnamese/Cambodian/Malaysia",
         "marker": {
          "color": "#ab63fa",
          "pattern": {
           "shape": ""
          }
         },
         "name": "Vietnamese/Cambodian/Malaysia",
         "offsetgroup": "Vietnamese/Cambodian/Malaysia",
         "orientation": "v",
         "showlegend": true,
         "textposition": "auto",
         "type": "bar",
         "x": [
          "Brooklyn",
          "Queens",
          "Manhattan"
         ],
         "xaxis": "x",
         "y": [
          21,
          7,
          38
         ],
         "yaxis": "y"
        },
        {
         "alignmentgroup": "True",
         "hovertemplate": "cuisine=Pakistani<br>borough=%{x}<br>count=%{y}<extra></extra>",
         "legendgroup": "Pakistani",
         "marker": {
          "color": "#FFA15A",
          "pattern": {
           "shape": ""
          }
         },
         "name": "Pakistani",
         "offsetgroup": "Pakistani",
         "orientation": "v",
         "showlegend": true,
         "textposition": "auto",
         "type": "bar",
         "x": [
          "Manhattan",
          "Bronx",
          "Brooklyn",
          "Queens"
         ],
         "xaxis": "x",
         "y": [
          8,
          2,
          10,
          11
         ],
         "yaxis": "y"
        },
        {
         "alignmentgroup": "True",
         "hovertemplate": "cuisine=Australian<br>borough=%{x}<br>count=%{y}<extra></extra>",
         "legendgroup": "Australian",
         "marker": {
          "color": "#19d3f3",
          "pattern": {
           "shape": ""
          }
         },
         "name": "Australian",
         "offsetgroup": "Australian",
         "orientation": "v",
         "showlegend": true,
         "textposition": "auto",
         "type": "bar",
         "x": [
          "Manhattan",
          "Brooklyn",
          "Queens"
         ],
         "xaxis": "x",
         "y": [
          10,
          5,
          1
         ],
         "yaxis": "y"
        },
        {
         "alignmentgroup": "True",
         "hovertemplate": "cuisine=Nuts/Confectionary<br>borough=%{x}<br>count=%{y}<extra></extra>",
         "legendgroup": "Nuts/Confectionary",
         "marker": {
          "color": "#FF6692",
          "pattern": {
           "shape": ""
          }
         },
         "name": "Nuts/Confectionary",
         "offsetgroup": "Nuts/Confectionary",
         "orientation": "v",
         "showlegend": true,
         "textposition": "auto",
         "type": "bar",
         "x": [
          "Manhattan",
          "Brooklyn",
          "Queens"
         ],
         "xaxis": "x",
         "y": [
          4,
          1,
          1
         ],
         "yaxis": "y"
        },
        {
         "alignmentgroup": "True",
         "hovertemplate": "cuisine=Ethiopian<br>borough=%{x}<br>count=%{y}<extra></extra>",
         "legendgroup": "Ethiopian",
         "marker": {
          "color": "#B6E880",
          "pattern": {
           "shape": ""
          }
         },
         "name": "Ethiopian",
         "offsetgroup": "Ethiopian",
         "orientation": "v",
         "showlegend": true,
         "textposition": "auto",
         "type": "bar",
         "x": [
          "Manhattan",
          "Brooklyn"
         ],
         "xaxis": "x",
         "y": [
          14,
          4
         ],
         "yaxis": "y"
        },
        {
         "alignmentgroup": "True",
         "hovertemplate": "cuisine=English<br>borough=%{x}<br>count=%{y}<extra></extra>",
         "legendgroup": "English",
         "marker": {
          "color": "#FF97FF",
          "pattern": {
           "shape": ""
          }
         },
         "name": "English",
         "offsetgroup": "English",
         "orientation": "v",
         "showlegend": true,
         "textposition": "auto",
         "type": "bar",
         "x": [
          "Queens",
          "Brooklyn",
          "Manhattan"
         ],
         "xaxis": "x",
         "y": [
          1,
          4,
          11
         ],
         "yaxis": "y"
        },
        {
         "alignmentgroup": "True",
         "hovertemplate": "cuisine=Irish<br>borough=%{x}<br>count=%{y}<extra></extra>",
         "legendgroup": "Irish",
         "marker": {
          "color": "#FECB52",
          "pattern": {
           "shape": ""
          }
         },
         "name": "Irish",
         "offsetgroup": "Irish",
         "orientation": "v",
         "showlegend": true,
         "textposition": "auto",
         "type": "bar",
         "x": [
          "Queens",
          "Staten Island",
          "Brooklyn",
          "Bronx",
          "Manhattan"
         ],
         "xaxis": "x",
         "y": [
          46,
          1,
          14,
          13,
          116
         ],
         "yaxis": "y"
        },
        {
         "alignmentgroup": "True",
         "hovertemplate": "cuisine=Creole<br>borough=%{x}<br>count=%{y}<extra></extra>",
         "legendgroup": "Creole",
         "marker": {
          "color": "#636efa",
          "pattern": {
           "shape": ""
          }
         },
         "name": "Creole",
         "offsetgroup": "Creole",
         "orientation": "v",
         "showlegend": true,
         "textposition": "auto",
         "type": "bar",
         "x": [
          "Queens",
          "Brooklyn",
          "Manhattan"
         ],
         "xaxis": "x",
         "y": [
          6,
          17,
          1
         ],
         "yaxis": "y"
        },
        {
         "alignmentgroup": "True",
         "hovertemplate": "cuisine=Iranian<br>borough=%{x}<br>count=%{y}<extra></extra>",
         "legendgroup": "Iranian",
         "marker": {
          "color": "#EF553B",
          "pattern": {
           "shape": ""
          }
         },
         "name": "Iranian",
         "offsetgroup": "Iranian",
         "orientation": "v",
         "showlegend": true,
         "textposition": "auto",
         "type": "bar",
         "x": [
          "Manhattan"
         ],
         "xaxis": "x",
         "y": [
          2
         ],
         "yaxis": "y"
        },
        {
         "alignmentgroup": "True",
         "hovertemplate": "cuisine=Polynesian<br>borough=%{x}<br>count=%{y}<extra></extra>",
         "legendgroup": "Polynesian",
         "marker": {
          "color": "#00cc96",
          "pattern": {
           "shape": ""
          }
         },
         "name": "Polynesian",
         "offsetgroup": "Polynesian",
         "orientation": "v",
         "showlegend": true,
         "textposition": "auto",
         "type": "bar",
         "x": [
          "Manhattan"
         ],
         "xaxis": "x",
         "y": [
          1
         ],
         "yaxis": "y"
        },
        {
         "alignmentgroup": "True",
         "hovertemplate": "cuisine=CafÃ©/Coffee/Tea<br>borough=%{x}<br>count=%{y}<extra></extra>",
         "legendgroup": "CafÃ©/Coffee/Tea",
         "marker": {
          "color": "#ab63fa",
          "pattern": {
           "shape": ""
          }
         },
         "name": "CafÃ©/Coffee/Tea",
         "offsetgroup": "CafÃ©/Coffee/Tea",
         "orientation": "v",
         "showlegend": true,
         "textposition": "auto",
         "type": "bar",
         "x": [
          "Manhattan"
         ],
         "xaxis": "x",
         "y": [
          2
         ],
         "yaxis": "y"
        },
        {
         "alignmentgroup": "True",
         "hovertemplate": "cuisine=Chilean<br>borough=%{x}<br>count=%{y}<extra></extra>",
         "legendgroup": "Chilean",
         "marker": {
          "color": "#FFA15A",
          "pattern": {
           "shape": ""
          }
         },
         "name": "Chilean",
         "offsetgroup": "Chilean",
         "orientation": "v",
         "showlegend": true,
         "textposition": "auto",
         "type": "bar",
         "x": [
          "Brooklyn"
         ],
         "xaxis": "x",
         "y": [
          1
         ],
         "yaxis": "y"
        }
       ],
       "layout": {
        "barmode": "relative",
        "legend": {
         "title": {
          "text": "cuisine"
         },
         "tracegroupgap": 0
        },
        "template": {
         "data": {
          "bar": [
           {
            "error_x": {
             "color": "#2a3f5f"
            },
            "error_y": {
             "color": "#2a3f5f"
            },
            "marker": {
             "line": {
              "color": "#E5ECF6",
              "width": 0.5
             },
             "pattern": {
              "fillmode": "overlay",
              "size": 10,
              "solidity": 0.2
             }
            },
            "type": "bar"
           }
          ],
          "barpolar": [
           {
            "marker": {
             "line": {
              "color": "#E5ECF6",
              "width": 0.5
             },
             "pattern": {
              "fillmode": "overlay",
              "size": 10,
              "solidity": 0.2
             }
            },
            "type": "barpolar"
           }
          ],
          "carpet": [
           {
            "aaxis": {
             "endlinecolor": "#2a3f5f",
             "gridcolor": "white",
             "linecolor": "white",
             "minorgridcolor": "white",
             "startlinecolor": "#2a3f5f"
            },
            "baxis": {
             "endlinecolor": "#2a3f5f",
             "gridcolor": "white",
             "linecolor": "white",
             "minorgridcolor": "white",
             "startlinecolor": "#2a3f5f"
            },
            "type": "carpet"
           }
          ],
          "choropleth": [
           {
            "colorbar": {
             "outlinewidth": 0,
             "ticks": ""
            },
            "type": "choropleth"
           }
          ],
          "contour": [
           {
            "colorbar": {
             "outlinewidth": 0,
             "ticks": ""
            },
            "colorscale": [
             [
              0,
              "#0d0887"
             ],
             [
              0.1111111111111111,
              "#46039f"
             ],
             [
              0.2222222222222222,
              "#7201a8"
             ],
             [
              0.3333333333333333,
              "#9c179e"
             ],
             [
              0.4444444444444444,
              "#bd3786"
             ],
             [
              0.5555555555555556,
              "#d8576b"
             ],
             [
              0.6666666666666666,
              "#ed7953"
             ],
             [
              0.7777777777777778,
              "#fb9f3a"
             ],
             [
              0.8888888888888888,
              "#fdca26"
             ],
             [
              1,
              "#f0f921"
             ]
            ],
            "type": "contour"
           }
          ],
          "contourcarpet": [
           {
            "colorbar": {
             "outlinewidth": 0,
             "ticks": ""
            },
            "type": "contourcarpet"
           }
          ],
          "heatmap": [
           {
            "colorbar": {
             "outlinewidth": 0,
             "ticks": ""
            },
            "colorscale": [
             [
              0,
              "#0d0887"
             ],
             [
              0.1111111111111111,
              "#46039f"
             ],
             [
              0.2222222222222222,
              "#7201a8"
             ],
             [
              0.3333333333333333,
              "#9c179e"
             ],
             [
              0.4444444444444444,
              "#bd3786"
             ],
             [
              0.5555555555555556,
              "#d8576b"
             ],
             [
              0.6666666666666666,
              "#ed7953"
             ],
             [
              0.7777777777777778,
              "#fb9f3a"
             ],
             [
              0.8888888888888888,
              "#fdca26"
             ],
             [
              1,
              "#f0f921"
             ]
            ],
            "type": "heatmap"
           }
          ],
          "heatmapgl": [
           {
            "colorbar": {
             "outlinewidth": 0,
             "ticks": ""
            },
            "colorscale": [
             [
              0,
              "#0d0887"
             ],
             [
              0.1111111111111111,
              "#46039f"
             ],
             [
              0.2222222222222222,
              "#7201a8"
             ],
             [
              0.3333333333333333,
              "#9c179e"
             ],
             [
              0.4444444444444444,
              "#bd3786"
             ],
             [
              0.5555555555555556,
              "#d8576b"
             ],
             [
              0.6666666666666666,
              "#ed7953"
             ],
             [
              0.7777777777777778,
              "#fb9f3a"
             ],
             [
              0.8888888888888888,
              "#fdca26"
             ],
             [
              1,
              "#f0f921"
             ]
            ],
            "type": "heatmapgl"
           }
          ],
          "histogram": [
           {
            "marker": {
             "pattern": {
              "fillmode": "overlay",
              "size": 10,
              "solidity": 0.2
             }
            },
            "type": "histogram"
           }
          ],
          "histogram2d": [
           {
            "colorbar": {
             "outlinewidth": 0,
             "ticks": ""
            },
            "colorscale": [
             [
              0,
              "#0d0887"
             ],
             [
              0.1111111111111111,
              "#46039f"
             ],
             [
              0.2222222222222222,
              "#7201a8"
             ],
             [
              0.3333333333333333,
              "#9c179e"
             ],
             [
              0.4444444444444444,
              "#bd3786"
             ],
             [
              0.5555555555555556,
              "#d8576b"
             ],
             [
              0.6666666666666666,
              "#ed7953"
             ],
             [
              0.7777777777777778,
              "#fb9f3a"
             ],
             [
              0.8888888888888888,
              "#fdca26"
             ],
             [
              1,
              "#f0f921"
             ]
            ],
            "type": "histogram2d"
           }
          ],
          "histogram2dcontour": [
           {
            "colorbar": {
             "outlinewidth": 0,
             "ticks": ""
            },
            "colorscale": [
             [
              0,
              "#0d0887"
             ],
             [
              0.1111111111111111,
              "#46039f"
             ],
             [
              0.2222222222222222,
              "#7201a8"
             ],
             [
              0.3333333333333333,
              "#9c179e"
             ],
             [
              0.4444444444444444,
              "#bd3786"
             ],
             [
              0.5555555555555556,
              "#d8576b"
             ],
             [
              0.6666666666666666,
              "#ed7953"
             ],
             [
              0.7777777777777778,
              "#fb9f3a"
             ],
             [
              0.8888888888888888,
              "#fdca26"
             ],
             [
              1,
              "#f0f921"
             ]
            ],
            "type": "histogram2dcontour"
           }
          ],
          "mesh3d": [
           {
            "colorbar": {
             "outlinewidth": 0,
             "ticks": ""
            },
            "type": "mesh3d"
           }
          ],
          "parcoords": [
           {
            "line": {
             "colorbar": {
              "outlinewidth": 0,
              "ticks": ""
             }
            },
            "type": "parcoords"
           }
          ],
          "pie": [
           {
            "automargin": true,
            "type": "pie"
           }
          ],
          "scatter": [
           {
            "fillpattern": {
             "fillmode": "overlay",
             "size": 10,
             "solidity": 0.2
            },
            "type": "scatter"
           }
          ],
          "scatter3d": [
           {
            "line": {
             "colorbar": {
              "outlinewidth": 0,
              "ticks": ""
             }
            },
            "marker": {
             "colorbar": {
              "outlinewidth": 0,
              "ticks": ""
             }
            },
            "type": "scatter3d"
           }
          ],
          "scattercarpet": [
           {
            "marker": {
             "colorbar": {
              "outlinewidth": 0,
              "ticks": ""
             }
            },
            "type": "scattercarpet"
           }
          ],
          "scattergeo": [
           {
            "marker": {
             "colorbar": {
              "outlinewidth": 0,
              "ticks": ""
             }
            },
            "type": "scattergeo"
           }
          ],
          "scattergl": [
           {
            "marker": {
             "colorbar": {
              "outlinewidth": 0,
              "ticks": ""
             }
            },
            "type": "scattergl"
           }
          ],
          "scattermapbox": [
           {
            "marker": {
             "colorbar": {
              "outlinewidth": 0,
              "ticks": ""
             }
            },
            "type": "scattermapbox"
           }
          ],
          "scatterpolar": [
           {
            "marker": {
             "colorbar": {
              "outlinewidth": 0,
              "ticks": ""
             }
            },
            "type": "scatterpolar"
           }
          ],
          "scatterpolargl": [
           {
            "marker": {
             "colorbar": {
              "outlinewidth": 0,
              "ticks": ""
             }
            },
            "type": "scatterpolargl"
           }
          ],
          "scatterternary": [
           {
            "marker": {
             "colorbar": {
              "outlinewidth": 0,
              "ticks": ""
             }
            },
            "type": "scatterternary"
           }
          ],
          "surface": [
           {
            "colorbar": {
             "outlinewidth": 0,
             "ticks": ""
            },
            "colorscale": [
             [
              0,
              "#0d0887"
             ],
             [
              0.1111111111111111,
              "#46039f"
             ],
             [
              0.2222222222222222,
              "#7201a8"
             ],
             [
              0.3333333333333333,
              "#9c179e"
             ],
             [
              0.4444444444444444,
              "#bd3786"
             ],
             [
              0.5555555555555556,
              "#d8576b"
             ],
             [
              0.6666666666666666,
              "#ed7953"
             ],
             [
              0.7777777777777778,
              "#fb9f3a"
             ],
             [
              0.8888888888888888,
              "#fdca26"
             ],
             [
              1,
              "#f0f921"
             ]
            ],
            "type": "surface"
           }
          ],
          "table": [
           {
            "cells": {
             "fill": {
              "color": "#EBF0F8"
             },
             "line": {
              "color": "white"
             }
            },
            "header": {
             "fill": {
              "color": "#C8D4E3"
             },
             "line": {
              "color": "white"
             }
            },
            "type": "table"
           }
          ]
         },
         "layout": {
          "annotationdefaults": {
           "arrowcolor": "#2a3f5f",
           "arrowhead": 0,
           "arrowwidth": 1
          },
          "autotypenumbers": "strict",
          "coloraxis": {
           "colorbar": {
            "outlinewidth": 0,
            "ticks": ""
           }
          },
          "colorscale": {
           "diverging": [
            [
             0,
             "#8e0152"
            ],
            [
             0.1,
             "#c51b7d"
            ],
            [
             0.2,
             "#de77ae"
            ],
            [
             0.3,
             "#f1b6da"
            ],
            [
             0.4,
             "#fde0ef"
            ],
            [
             0.5,
             "#f7f7f7"
            ],
            [
             0.6,
             "#e6f5d0"
            ],
            [
             0.7,
             "#b8e186"
            ],
            [
             0.8,
             "#7fbc41"
            ],
            [
             0.9,
             "#4d9221"
            ],
            [
             1,
             "#276419"
            ]
           ],
           "sequential": [
            [
             0,
             "#0d0887"
            ],
            [
             0.1111111111111111,
             "#46039f"
            ],
            [
             0.2222222222222222,
             "#7201a8"
            ],
            [
             0.3333333333333333,
             "#9c179e"
            ],
            [
             0.4444444444444444,
             "#bd3786"
            ],
            [
             0.5555555555555556,
             "#d8576b"
            ],
            [
             0.6666666666666666,
             "#ed7953"
            ],
            [
             0.7777777777777778,
             "#fb9f3a"
            ],
            [
             0.8888888888888888,
             "#fdca26"
            ],
            [
             1,
             "#f0f921"
            ]
           ],
           "sequentialminus": [
            [
             0,
             "#0d0887"
            ],
            [
             0.1111111111111111,
             "#46039f"
            ],
            [
             0.2222222222222222,
             "#7201a8"
            ],
            [
             0.3333333333333333,
             "#9c179e"
            ],
            [
             0.4444444444444444,
             "#bd3786"
            ],
            [
             0.5555555555555556,
             "#d8576b"
            ],
            [
             0.6666666666666666,
             "#ed7953"
            ],
            [
             0.7777777777777778,
             "#fb9f3a"
            ],
            [
             0.8888888888888888,
             "#fdca26"
            ],
            [
             1,
             "#f0f921"
            ]
           ]
          },
          "colorway": [
           "#636efa",
           "#EF553B",
           "#00cc96",
           "#ab63fa",
           "#FFA15A",
           "#19d3f3",
           "#FF6692",
           "#B6E880",
           "#FF97FF",
           "#FECB52"
          ],
          "font": {
           "color": "#2a3f5f"
          },
          "geo": {
           "bgcolor": "white",
           "lakecolor": "white",
           "landcolor": "#E5ECF6",
           "showlakes": true,
           "showland": true,
           "subunitcolor": "white"
          },
          "hoverlabel": {
           "align": "left"
          },
          "hovermode": "closest",
          "mapbox": {
           "style": "light"
          },
          "paper_bgcolor": "white",
          "plot_bgcolor": "#E5ECF6",
          "polar": {
           "angularaxis": {
            "gridcolor": "white",
            "linecolor": "white",
            "ticks": ""
           },
           "bgcolor": "#E5ECF6",
           "radialaxis": {
            "gridcolor": "white",
            "linecolor": "white",
            "ticks": ""
           }
          },
          "scene": {
           "xaxis": {
            "backgroundcolor": "#E5ECF6",
            "gridcolor": "white",
            "gridwidth": 2,
            "linecolor": "white",
            "showbackground": true,
            "ticks": "",
            "zerolinecolor": "white"
           },
           "yaxis": {
            "backgroundcolor": "#E5ECF6",
            "gridcolor": "white",
            "gridwidth": 2,
            "linecolor": "white",
            "showbackground": true,
            "ticks": "",
            "zerolinecolor": "white"
           },
           "zaxis": {
            "backgroundcolor": "#E5ECF6",
            "gridcolor": "white",
            "gridwidth": 2,
            "linecolor": "white",
            "showbackground": true,
            "ticks": "",
            "zerolinecolor": "white"
           }
          },
          "shapedefaults": {
           "line": {
            "color": "#2a3f5f"
           }
          },
          "ternary": {
           "aaxis": {
            "gridcolor": "white",
            "linecolor": "white",
            "ticks": ""
           },
           "baxis": {
            "gridcolor": "white",
            "linecolor": "white",
            "ticks": ""
           },
           "bgcolor": "#E5ECF6",
           "caxis": {
            "gridcolor": "white",
            "linecolor": "white",
            "ticks": ""
           }
          },
          "title": {
           "x": 0.05
          },
          "xaxis": {
           "automargin": true,
           "gridcolor": "white",
           "linecolor": "white",
           "ticks": "",
           "title": {
            "standoff": 15
           },
           "zerolinecolor": "white",
           "zerolinewidth": 2
          },
          "yaxis": {
           "automargin": true,
           "gridcolor": "white",
           "linecolor": "white",
           "ticks": "",
           "title": {
            "standoff": 15
           },
           "zerolinecolor": "white",
           "zerolinewidth": 2
          }
         }
        },
        "title": {
         "text": "Resturant Count by Cusiene in NYC Boroughs"
        },
        "xaxis": {
         "anchor": "y",
         "domain": [
          0,
          1
         ],
         "title": {
          "text": "borough"
         }
        },
        "yaxis": {
         "anchor": "x",
         "domain": [
          0,
          1
         ],
         "title": {
          "text": "count"
         }
        }
       }
      }
     },
     "metadata": {},
     "output_type": "display_data"
    }
   ],
   "source": [
    "print(\"\\n Query to make a visualization of the distribution of restaurants across different cuisines in the NYC boroughs: \\n\")\n",
    "res: list = mongo.aggregate_query(\"restaurants_collection\", [{\"$group\": {\"_id\": {\"borough\": \"$borough\", \"cuisine\": \"$cuisine\"}, \"count\": {\"$sum\": 1}}},\n",
    "                                                                {\"$project\": {\"borough\": \"$_id.borough\", \"cuisine\": \"$_id.cuisine\", \"count\": \"$count\", \"_id\": 0}}]\n",
    "                                                                , show=False)\n",
    "for item in res[:10]:\n",
    "    print(item)\n",
    "\n",
    "mongo.plot_query(res, x_var=\"borough\", y_var=\"count\", color_on=\"cuisine\", plot_title=\"Resturant Count by Cusiene in NYC Boroughs\", save_as='../data/mongo_visualization.png')\n",
    "mongo.disconnect()\n"
   ]
  },
  {
   "cell_type": "code",
   "execution_count": null,
   "metadata": {},
   "outputs": [],
   "source": []
  }
 ],
 "metadata": {
  "kernelspec": {
   "display_name": "Python 3.9.13 ('ds')",
   "language": "python",
   "name": "python3"
  },
  "language_info": {
   "codemirror_mode": {
    "name": "ipython",
    "version": 3
   },
   "file_extension": ".py",
   "mimetype": "text/x-python",
   "name": "python",
   "nbconvert_exporter": "python",
   "pygments_lexer": "ipython3",
   "version": "3.9.13"
  },
  "pycharm": {
   "stem_cell": {
    "cell_type": "raw",
    "metadata": {
     "collapsed": false
    },
    "source": [
     "from mongo_connection import MongoDriver\n",
     "\n",
     "\n"
    ]
   }
  },
  "vscode": {
   "interpreter": {
    "hash": "aa8f07565f14ad3af7441b359de82a9336d0e71b02baac78f24423198eabf332"
   }
  }
 },
 "nbformat": 4,
 "nbformat_minor": 4
}
